{
  "cells": [
    {
      "cell_type": "code",
      "execution_count": null,
      "id": "7d18a4a2-fe70-4340-9744-3159137b3efb",
      "metadata": {
        "id": "7d18a4a2-fe70-4340-9744-3159137b3efb",
        "outputId": "e5a6df8b-717d-4422-ad4c-91ec5beb5d9f"
      },
      "outputs": [
        {
          "name": "stdout",
          "output_type": "stream",
          "text": [
            "Task-1\n",
            "Cold temperature of tu airport are categorized in this list [8.2, 7.9, 9.0, 8.5, 7.7, 8.4, 9.5, 8.1, 7.6, 8.0, 7.8, 8.7, 9.2, 8.3, 8.9, 7.8]\n",
            "Mild temperature of tu airport are categorized in this list [14.1, 13.5, 13.0, 12.9, 13.3, 14.0, 13.4, 14.2, 12.8, 13.7, 13.6, 13.8, 13.9, 12.7, 13.1, 12.5]\n",
            "Comfortable temperature of tu airport are categorized in this list [17.4, 18.0, 17.8, 16.5, 17.2, 16.7, 18.3, 17.9, 17.0, 16.8, 17.5, 17.1, 18.1, 16.4, 18.2, 16.6]\n",
            "\n"
          ]
        }
      ],
      "source": [
        "temperatures = [8.2, 17.4, 14.1, 7.9, 18.0, 13.5, 9.0, 17.8, 13.0, 8.5,\n",
        "16.5, 12.9, 7.7, 17.2, 13.3, 8.4, 16.7, 14.0, 9.5, 18.3, 13.4, 8.1,\n",
        "17.9, 14.2, 7.6, 17.0, 12.8, 8.0, 16.8, 13.7, 7.8, 17.5, 13.6, 8.7,\n",
        "17.1, 13.8, 9.2, 18.1, 13.9, 8.3, 16.4, 12.7, 8.9, 18.2, 13.1, 7.8,\n",
        "16.6, 12.5]\n",
        "length_of_temperatures = len(temperatures)\n",
        "cold_temp = []\n",
        "mild_temp = []\n",
        "comfy_temp = []\n",
        "def temp_categorized():\n",
        "    print(\"Task-1\")\n",
        "    for i in range(length_of_temperatures):\n",
        "        if temperatures[i] < 10:\n",
        "            cold_temp.append(temperatures[i])\n",
        "        elif 10 < temperatures[i] < 15:\n",
        "            mild_temp.append(temperatures[i])\n",
        "        elif 15 < temperatures[i] < 20:\n",
        "            comfy_temp.append(temperatures[i])\n",
        "        else:\n",
        "            print(\"Invalid temperatures\")\n",
        "    print(\"Cold temperature of tu airport are categorized in this list\", cold_temp)\n",
        "    print(\"Mild temperature of tu airport are categorized in this list\", mild_temp)\n",
        "    print(\"Comfortable temperature of tu airport are categorized in this list\", comfy_temp)\n",
        "    print()\n",
        "\n",
        "temp_categorized()"
      ]
    },
    {
      "cell_type": "code",
      "execution_count": null,
      "id": "2d4b2f77-a240-4a80-80ba-983d1c34a454",
      "metadata": {
        "id": "2d4b2f77-a240-4a80-80ba-983d1c34a454",
        "outputId": "02eb9b76-836f-452c-ff9a-4fc30f5ffbec"
      },
      "outputs": [
        {
          "name": "stdout",
          "output_type": "stream",
          "text": [
            "Task-2\n",
            "Cold temperature was for  16\n",
            "Mild temperature was for  16\n",
            "Comfortable temperature was for  16\n",
            "\n"
          ]
        }
      ],
      "source": [
        "def task_2():\n",
        "    print(\"Task-2\")\n",
        "    number_of_mild = len(cold_temp)\n",
        "    number_of_cold = len(mild_temp)\n",
        "    number_of_comfy = len(comfy_temp)\n",
        "    print(\"Cold temperature was for \", number_of_cold)\n",
        "    print(\"Mild temperature was for \", number_of_mild)\n",
        "    print(\"Comfortable temperature was for \", number_of_comfy)\n",
        "    print()\n",
        "\n",
        "task_2()\n"
      ]
    },
    {
      "cell_type": "code",
      "execution_count": null,
      "id": "f847fe06-b63d-40cd-9813-3305bd93fc8e",
      "metadata": {
        "id": "f847fe06-b63d-40cd-9813-3305bd93fc8e",
        "outputId": "8f47715c-32ba-44f8-a4d1-3d17b1cb7789"
      },
      "outputs": [
        {
          "name": "stdout",
          "output_type": "stream",
          "text": [
            "Task-3\n",
            "The temperature in fahrenheit of Tu Airport is [46.76, 63.32, 57.38, 46.22, 64.4, 56.3, 48.2, 64.04, 55.4, 47.3, 61.7, 55.22, 45.86, 62.96, 55.94, 47.12, 62.06, 57.2, 49.1, 64.94, 56.12, 46.58, 64.22, 57.56, 45.68, 62.6, 55.04, 46.4, 62.24, 56.66, 46.04, 63.5, 56.48, 47.66, 62.78, 56.84, 48.56, 64.58, 57.02, 46.94, 61.52, 54.86, 48.02, 64.76, 55.58, 46.04, 61.88, 54.5]\n"
          ]
        }
      ],
      "source": [
        "fahrenheit_temp = []\n",
        "def celsius_to_fahrenheit():\n",
        "    print(\"Task-3\")\n",
        "    for i in range(length_of_temperatures):\n",
        "        fahrenheit = (temperatures[i]*1.8) + 32\n",
        "        fahrenheit_temp.append(round(fahrenheit, 2))\n",
        "    print(\"The temperature in fahrenheit of Tu Airport is\", fahrenheit_temp)\n",
        "\n",
        "celsius_to_fahrenheit()\n"
      ]
    },
    {
      "cell_type": "code",
      "execution_count": null,
      "id": "15d24ebd-d3fa-43a5-a0ea-703a64f3136e",
      "metadata": {
        "id": "15d24ebd-d3fa-43a5-a0ea-703a64f3136e",
        "outputId": "3ce64f9d-658e-4002-f7e0-e2a6d5b20e46"
      },
      "outputs": [
        {
          "name": "stdout",
          "output_type": "stream",
          "text": [
            "Task-4\n",
            "Night Temperatures are [7.9, 7.7, 7.6, 7.8, 7.8]\n",
            "Evening temperatures are [8.2, 14.1, 13.5, 9.0, 13.0, 8.5, 12.9, 13.3, 8.4, 14.0, 9.5, 13.4, 8.1, 14.2, 12.8, 13.7, 13.6, 8.7, 13.8, 9.2, 13.9, 8.3, 12.7, 8.9, 13.1, 12.5]\n",
            "Day temperatures are [17.4, 18.0, 17.8, 16.5, 17.2, 16.7, 18.3, 17.9, 17.0, 16.8, 17.5, 17.1, 18.1, 16.4, 18.2, 16.6]\n",
            "Average day temperature : 17.34\n"
          ]
        }
      ],
      "source": [
        "night_temp = []\n",
        "day_temp = []\n",
        "evening_temp = []\n",
        "def task_4():\n",
        "    print(\"Task-4\")\n",
        "    for i in range(length_of_temperatures):\n",
        "        if 0 < temperatures[i] < 8:\n",
        "            night_temp.append(temperatures[i])\n",
        "        elif 8 < temperatures[i] < 16:\n",
        "            evening_temp.append(temperatures[i])\n",
        "        elif 16 < temperatures[i] < 24:\n",
        "            day_temp.append(temperatures[i])\n",
        "    print(\"Night Temperatures are\", night_temp)\n",
        "    print(\"Evening temperatures are\", evening_temp)\n",
        "    print(\"Day temperatures are\", day_temp)\n",
        "\n",
        "\n",
        "def average_day_temp():\n",
        "    length_day_temp = len(day_temp)\n",
        "    average_temp = round(sum(day_temp)/length_day_temp,2)\n",
        "    print(\"Average day temperature :\", average_temp)\n",
        "\n",
        "task_4()\n",
        "average_day_temp()\n",
        "\n"
      ]
    },
    {
      "cell_type": "code",
      "execution_count": null,
      "id": "7244dc65-5a5a-4c28-a70c-69ba926ff67a",
      "metadata": {
        "id": "7244dc65-5a5a-4c28-a70c-69ba926ff67a",
        "outputId": "a3097f13-2eb7-46e4-c708-09351ee25759"
      },
      "outputs": [
        {
          "data": {
            "image/png": "[encoded data removed]",
            "text/plain": [
              "<Figure size 640x480 with 1 Axes>"
            ]
          },
          "metadata": {},
          "output_type": "display_data"
        }
      ],
      "source": [
        "import matplotlib.pyplot as plt\n",
        "\n",
        "def graph_plot(temperature):\n",
        "    days = []\n",
        "    for i in range(48):\n",
        "        days.append(i)\n",
        "\n",
        "    plt.plot(days, temperatures)\n",
        "    plt.xlabel(\"Days\")\n",
        "    plt.ylabel(\"Temperature\")\n",
        "    plt.title(\"Temperature over 30 Days\")\n",
        "    plt.show()\n",
        "\n",
        "\n",
        "graph_plot(temperatures)"
      ]
    },
    {
      "cell_type": "code",
      "execution_count": null,
      "id": "1e61a9f6-730c-4e1a-ae3e-fdcc515b8eef",
      "metadata": {
        "id": "1e61a9f6-730c-4e1a-ae3e-fdcc515b8eef",
        "outputId": "1d4e21f8-fc11-4bec-9761-c08a64233372"
      },
      "outputs": [
        {
          "data": {
            "text/plain": [
              "15"
            ]
          },
          "execution_count": 2,
          "metadata": {},
          "output_type": "execute_result"
        }
      ],
      "source": [
        "def sum_nested_list(nested_list):\n",
        "    \"\"\"\n",
        "    Calculate the sum of all numbers in a nested list.\n",
        "    This function takes a list that may contain integers and other nested lists.\n",
        "    It recursively traverses the list and sums all the integers, no matter how deeply\n",
        "    nested they are.\n",
        "    Args:\n",
        "    nested_list (list): A list that may contain integers or other lists of integers.\n",
        "    Returns:\n",
        "    int: The total sum of all integers in the nested list, including those in sublists\n",
        "    .\n",
        "    Example:\n",
        "    >>> sum_nested_list([1, [2, [3, 4], 5], 6, [7, 8]])\n",
        "    36\n",
        "    >>> sum_nested_list([1, [2, 3], [4, [5]]])\n",
        "    15\n",
        "    \"\"\"\n",
        "    total = 0\n",
        "    for element in nested_list:\n",
        "        if isinstance(element, list):\n",
        "            total += sum_nested_list(element)\n",
        "        else:\n",
        "            total += element\n",
        "    return total\n",
        "\n",
        "\n",
        "sum_nested_list([1, [2, 3], [4, [5]]])\n",
        "\n"
      ]
    },
    {
      "cell_type": "code",
      "execution_count": null,
      "id": "d38b761a-fe6a-4b7e-860c-853044b06420",
      "metadata": {
        "id": "d38b761a-fe6a-4b7e-860c-853044b06420",
        "outputId": "ce745466-844d-43cb-f53c-0b70095ea370"
      },
      "outputs": [
        {
          "name": "stdout",
          "output_type": "stream",
          "text": [
            "['abc', 'acb', 'bac', 'bca', 'cab', 'cba']\n",
            "['aab', 'aba', 'aab', 'aba', 'baa', 'baa']\n"
          ]
        }
      ],
      "source": [
        "def generate_permutations(s):\n",
        "    result = []\n",
        "    if len(s) == 1:\n",
        "        return [s]\n",
        "\n",
        "\n",
        "    for i in range(len(s)):\n",
        "        remaining = s[:i] + s[i+1:]\n",
        "        for perm in generate_permutations(remaining):\n",
        "            result.append(s[i] + perm)\n",
        "    return result\n",
        "\n",
        "print(generate_permutations(\"abc\"))\n",
        "print(generate_permutations(\"aab\"))\n",
        ""
      ]
    },
    {
      "cell_type": "code",
      "execution_count": null,
      "id": "5d27b7ca-f771-4aaf-b575-93963889cefa",
      "metadata": {
        "id": "5d27b7ca-f771-4aaf-b575-93963889cefa",
        "outputId": "99619112-f234-40f5-fac0-ee859982dd58"
      },
      "outputs": [
        {
          "name": "stdout",
          "output_type": "stream",
          "text": [
            "Total directory size: 1400 KB\n"
          ]
        }
      ],
      "source": [
        "def calculate_directory_size(directory):\n",
        "    total_size = 0\n",
        "    for key, value in directory.items():\n",
        "        if isinstance(value, dict):\n",
        "            total_size += calculate_directory_size(value)\n",
        "        else:\n",
        "            total_size += value\n",
        "    return total_size\n",
        "\n",
        "\n",
        "directory_structure = {\n",
        "    \"file1.txt\": 200,\n",
        "    \"file2.txt\": 300,\n",
        "    \"subdir1\": {\n",
        "        \"file3.txt\": 400,\n",
        "        \"file4.txt\": 100\n",
        "    },\n",
        "    \"subdir2\": {\n",
        "        \"subsubdir1\": {\n",
        "            \"file5.txt\": 250\n",
        "        },\n",
        "        \"file6.txt\": 150\n",
        "    }\n",
        "}\n",
        "\n",
        "total_size = calculate_directory_size(directory_structure)\n",
        "print(f\"Total directory size: {total_size} KB\")\n"
      ]
    },
    {
      "cell_type": "code",
      "execution_count": null,
      "id": "fbacc882-b995-4fb1-901c-72f6c339aee5",
      "metadata": {
        "id": "fbacc882-b995-4fb1-901c-72f6c339aee5",
        "outputId": "c217b0c4-320e-47e1-988a-b8542f6e87dd"
      },
      "outputs": [
        {
          "name": "stdout",
          "output_type": "stream",
          "text": [
            "4\n"
          ]
        }
      ],
      "source": [
        "def longest_common_subsequence(s1, s2):\n",
        "    m, n = len(s1), len(s2)\n",
        "    dp = [[0] * (n + 1) for _ in range(m + 1)]\n",
        "    for i in range(1, m + 1):\n",
        "        for j in range(1, n + 1):\n",
        "            if s1[i - 1] == s2[j - 1]:\n",
        "                dp[i][j] = dp[i - 1][j - 1] + 1\n",
        "            else:\n",
        "                dp[i][j] = max(dp[i - 1][j], dp[i][j - 1])\n",
        "    return dp[m][n]\n",
        "\n",
        "s1 = \"abcdef\"\n",
        "s2 = \"abcd\"\n",
        "print(longest_common_subsequence(s1, s2))\n"
      ]
    },
    {
      "cell_type": "code",
      "execution_count": null,
      "id": "25021b17-f012-4aea-9f0d-cd04785b84bb",
      "metadata": {
        "id": "25021b17-f012-4aea-9f0d-cd04785b84bb",
        "outputId": "36938f26-91b3-4967-f812-041a2ca20642"
      },
      "outputs": [
        {
          "name": "stdout",
          "output_type": "stream",
          "text": [
            "9\n"
          ]
        }
      ],
      "source": [
        "def knapsack(weights, values, capacity):\n",
        "    n = len(weights)\n",
        "    dp = [[0] * (capacity + 1) for _ in range(n + 1)]  # Added variable `_` in the loop\n",
        "\n",
        "    for i in range(1, n + 1):\n",
        "        for w in range(1, capacity + 1):\n",
        "            if weights[i - 1] <= w:\n",
        "                # Choose the maximum between including or excluding the current item\n",
        "                dp[i][w] = max(dp[i - 1][w], values[i - 1] + dp[i - 1][w - weights[i - 1]])\n",
        "            else:\n",
        "                # Exclude the current item\n",
        "                dp[i][w] = dp[i - 1][w]\n",
        "\n",
        "    return dp[n][capacity]  # Return the maximum value that can be achieved within the capacity\n",
        "\n",
        "weights = [1, 3, 4, 5]\n",
        "values = [1, 4, 5, 7]\n",
        "capacity = 7\n",
        "print(knapsack(weights, values, capacity))\n"
      ]
    }
  ],
  "metadata": {
    "kernelspec": {
      "display_name": "Python 3 (ipykernel)",
      "language": "python",
      "name": "python3"
    },
    "language_info": {
      "codemirror_mode": {
        "name": "ipython",
        "version": 3
      },
      "file_extension": ".py",
      "mimetype": "text/x-python",
      "name": "python",
      "nbconvert_exporter": "python",
      "pygments_lexer": "ipython3",
      "version": "3.12.4"
    },
    "colab": {
      "provenance": []
    }
  },
  "nbformat": 4,
  "nbformat_minor": 5
}