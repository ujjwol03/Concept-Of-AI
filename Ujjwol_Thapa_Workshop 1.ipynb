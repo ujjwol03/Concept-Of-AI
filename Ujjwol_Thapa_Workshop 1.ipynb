{
 "cells": [
  {
   "cell_type": "markdown",
   "metadata": {
    "id": "AfzQ8JIasz8C"
   },
   "source": [
    "Problem-1"
   ]
  },
  {
   "cell_type": "code",
   "execution_count": null,
   "metadata": {
    "colab": {
     "base_uri": "https://localhost:8080/"
    },
    "id": "RSLKXGRjsZz1",
    "outputId": "d8ec3069-c023-46f6-c02f-91316906478d"
   },
   "outputs": [
    {
     "name": "stdout",
     "output_type": "stream",
     "text": [
      "[[0. 0.]\n",
      " [0. 0.]]\n"
     ]
    }
   ],
   "source": [
    "#task-1\n",
    "import numpy as np\n",
    "empty_arr = np.zeros((2,2))\n",
    "print(empty_arr)"
   ]
  },
  {
   "cell_type": "code",
   "execution_count": null,
   "metadata": {
    "colab": {
     "base_uri": "https://localhost:8080/"
    },
    "id": "BJYpheK6v976",
    "outputId": "c8b6a54e-839a-46b3-9597-6ade4c7dbfe8"
   },
   "outputs": [
    {
     "name": "stdout",
     "output_type": "stream",
     "text": [
      "[[1. 1.]\n",
      " [1. 1.]\n",
      " [1. 1.]\n",
      " [1. 1.]]\n"
     ]
    }
   ],
   "source": [
    "#task-2\n",
    "import numpy as np\n",
    "empty_Arr2=np.ones((4,2))\n",
    "print(empty_Arr2)"
   ]
  },
  {
   "cell_type": "code",
   "execution_count": null,
   "metadata": {
    "colab": {
     "base_uri": "https://localhost:8080/"
    },
    "id": "2Yf3F_iXwOVF",
    "outputId": "fc206f09-5203-487e-d08a-c4f637f02c5b"
   },
   "outputs": [
    {
     "name": "stdout",
     "output_type": "stream",
     "text": [
      "[2 2]\n"
     ]
    }
   ],
   "source": [
    "#task-3\n",
    "array_full=np.full(2,2)\n",
    "print(array_full)"
   ]
  },
  {
   "cell_type": "code",
   "execution_count": null,
   "metadata": {
    "colab": {
     "base_uri": "https://localhost:8080/"
    },
    "id": "UWSzCWPDwXDx",
    "outputId": "e15d5383-4f27-4720-b3e8-b32d3c0895b7"
   },
   "outputs": [
    {
     "name": "stdout",
     "output_type": "stream",
     "text": [
      "[[0. 0.]\n",
      " [0. 0.]]\n"
     ]
    }
   ],
   "source": [
    "#task-4\n",
    "zeros_arr= np.zeros([2,2])\n",
    "print(zeros_arr)"
   ]
  },
  {
   "cell_type": "code",
   "execution_count": null,
   "metadata": {
    "colab": {
     "base_uri": "https://localhost:8080/"
    },
    "id": "aY4Sa2t_wyiB",
    "outputId": "8541c554-96a3-46e1-ce44-3a6a3368daeb"
   },
   "outputs": [
    {
     "name": "stdout",
     "output_type": "stream",
     "text": [
      "[[1. 1.]\n",
      " [1. 1.]]\n"
     ]
    }
   ],
   "source": [
    "#task-5\n",
    "ones_Arr=np.ones([2,2])\n",
    "print(ones_Arr)"
   ]
  },
  {
   "cell_type": "code",
   "execution_count": null,
   "metadata": {
    "colab": {
     "base_uri": "https://localhost:8080/"
    },
    "id": "v0oOspNLxJrP",
    "outputId": "4627fa20-d95c-4dfc-c473-2b3e93a85279"
   },
   "outputs": [
    {
     "name": "stdout",
     "output_type": "stream",
     "text": [
      "[1 2 3 4]\n"
     ]
    }
   ],
   "source": [
    "#task-6\n",
    "new_list=[1,2,3,4]\n",
    "array = np.array(new_list)\n",
    "print(array)"
   ]
  },
  {
   "cell_type": "markdown",
   "metadata": {
    "id": "19QN3LrlxUUP"
   },
   "source": [
    "Problem-2\n"
   ]
  },
  {
   "cell_type": "code",
   "execution_count": null,
   "metadata": {
    "colab": {
     "base_uri": "https://localhost:8080/"
    },
    "id": "A3-M-31cxWQM",
    "outputId": "8776817f-0fbe-4d35-dcf8-3e826d8296e7"
   },
   "outputs": [
    {
     "name": "stdout",
     "output_type": "stream",
     "text": [
      "[10 11 12 13 14 15 16 17 18 19 20 21 22 23 24 25 26 27 28 29 30 31 32 33\n",
      " 34 35 36 37 38 39 40 41 42 43 44 45 46 47 48 49]\n"
     ]
    }
   ],
   "source": [
    "#task-1\n",
    "array_2 = np.arange(10,50)\n",
    "print(array_2)"
   ]
  },
  {
   "cell_type": "code",
   "execution_count": null,
   "metadata": {
    "colab": {
     "base_uri": "https://localhost:8080/"
    },
    "id": "qIH-IQn4xmqA",
    "outputId": "8565e3dc-059f-4fc7-9a21-19c6d81b93ef"
   },
   "outputs": [
    {
     "name": "stdout",
     "output_type": "stream",
     "text": [
      "[[0 1 2]\n",
      " [3 4 5]\n",
      " [6 7 8]]\n"
     ]
    }
   ],
   "source": [
    "#task-2\n",
    "array_3 = np.array([0,1,2,3,4,5,6,7,8])\n",
    "new = array_3.reshape(3,3)\n",
    "print(new)"
   ]
  },
  {
   "cell_type": "code",
   "execution_count": null,
   "metadata": {
    "colab": {
     "base_uri": "https://localhost:8080/"
    },
    "id": "AlhdXBGmyGAR",
    "outputId": "decdc057-2924-4141-c11b-597bf2dac21f"
   },
   "outputs": [
    {
     "name": "stdout",
     "output_type": "stream",
     "text": [
      "[[1. 0. 0.]\n",
      " [0. 1. 0.]\n",
      " [0. 0. 1.]]\n"
     ]
    }
   ],
   "source": [
    "#task-3\n",
    "identity = np.eye(3,3)\n",
    "print(identity)"
   ]
  },
  {
   "cell_type": "code",
   "execution_count": null,
   "metadata": {
    "colab": {
     "base_uri": "https://localhost:8080/"
    },
    "id": "q5uyaVqnyOqs",
    "outputId": "bb9b9ee7-b0dc-489d-c5cd-3c6c3cf84f42"
   },
   "outputs": [
    {
     "name": "stdout",
     "output_type": "stream",
     "text": [
      "Random array: [0.92537191 0.55077728 0.49926166 0.97322439 0.45945455 0.68825131\n",
      " 0.74785877 0.41026036 0.31056624 0.97427489 0.49674761 0.58628571\n",
      " 0.70649761 0.60339744 0.01295425 0.34390555 0.11239129 0.84319158\n",
      " 0.27390142 0.78498754 0.50903619 0.56719617 0.64481974 0.56876419\n",
      " 0.52980764 0.3911568  0.82262047 0.02286523 0.17028868 0.76449433]\n",
      "Mean of the array: 0.5431536936620108\n"
     ]
    }
   ],
   "source": [
    "#task-4\n",
    "random_array = np.random.random(30)\n",
    "mean_value = random_array.mean()\n",
    "print(\"Random array:\", random_array)\n",
    "print(\"Mean of the array:\", mean_value)\n",
    "\n",
    "\n"
   ]
  },
  {
   "cell_type": "code",
   "execution_count": null,
   "metadata": {
    "colab": {
     "base_uri": "https://localhost:8080/"
    },
    "id": "sa7GbHNcZH2x",
    "outputId": "072013d8-30f2-44e3-ab10-a4151b9b36cc"
   },
   "outputs": [
    {
     "name": "stdout",
     "output_type": "stream",
     "text": [
      "Random Array:\n",
      "[[0.83962334 0.66191602 0.95517587 0.46552761 0.97887204 0.05506961\n",
      "  0.06005185 0.1886684  0.12148598 0.65860764]\n",
      " [0.31648789 0.94314273 0.29431442 0.36460548 0.17489188 0.88296782\n",
      "  0.06141768 0.9897901  0.68757451 0.05782267]\n",
      " [0.62177141 0.96887453 0.85102654 0.94851092 0.73731809 0.95985988\n",
      "  0.61271839 0.18657882 0.77732475 0.46367606]\n",
      " [0.28962702 0.4921087  0.52627671 0.53557947 0.12502041 0.48165442\n",
      "  0.83691277 0.81353178 0.1389005  0.43138839]\n",
      " [0.96206503 0.3579496  0.40968349 0.74197187 0.43055488 0.04790261\n",
      "  0.54421568 0.62518261 0.51994751 0.59614622]\n",
      " [0.02858386 0.07284657 0.08801905 0.91573761 0.29722977 0.95441995\n",
      "  0.57155517 0.55356883 0.50067661 0.20546287]\n",
      " [0.43088408 0.64620171 0.02484465 0.39628428 0.21266273 0.77992924\n",
      "  0.55962475 0.03179497 0.91127927 0.27504755]\n",
      " [0.6365395  0.18403907 0.82898333 0.41942787 0.40180417 0.20368554\n",
      "  0.36421347 0.2737159  0.80923349 0.01547548]\n",
      " [0.28690635 0.97552464 0.3347515  0.05692012 0.90906987 0.28248583\n",
      "  0.30691965 0.69420294 0.97256307 0.18287324]\n",
      " [0.38066282 0.36973871 0.2285259  0.59380277 0.6068216  0.22495743\n",
      "  0.31644396 0.63646673 0.58026441 0.72750491]]\n",
      "\n",
      "Minimum Value: 0.015475481721156092\n",
      "Maximum Value: 0.9897901007349423\n"
     ]
    }
   ],
   "source": [
    "#task-5\n",
    "import numpy as np\n",
    "random_array = np.random.random((10, 10))\n",
    "min_value = np.min(random_array)\n",
    "max_value = np.max(random_array)\n",
    "print(\"Random Array:\")\n",
    "print(random_array)\n",
    "print(\"\\nMinimum Value:\", min_value)\n",
    "print(\"Maximum Value:\", max_value)\n"
   ]
  },
  {
   "cell_type": "code",
   "execution_count": null,
   "metadata": {
    "colab": {
     "base_uri": "https://localhost:8080/"
    },
    "id": "IgZZDRraZlfp",
    "outputId": "53d28ef5-1996-4889-e3ea-be04a6d87201"
   },
   "outputs": [
    {
     "name": "stdout",
     "output_type": "stream",
     "text": [
      "[0. 0. 0. 0. 1. 0. 0. 0. 0. 0.]\n"
     ]
    }
   ],
   "source": [
    "#task-5\n",
    "zero_array = np.zeros(10)\n",
    "zero_array[4] = 1\n",
    "print(zero_array)\n"
   ]
  },
  {
   "cell_type": "code",
   "execution_count": null,
   "metadata": {
    "colab": {
     "base_uri": "https://localhost:8080/"
    },
    "id": "GfPqBCY0ZqoX",
    "outputId": "3f3b6382-48ae-49c4-ceef-c68ff5332514"
   },
   "outputs": [
    {
     "name": "stdout",
     "output_type": "stream",
     "text": [
      "[0 4 0 0 2 1]\n"
     ]
    }
   ],
   "source": [
    "#task-6\n",
    "arr = np.array([1, 2, 0, 0, 4, 0])\n",
    "reversed_arr = arr[::-1]\n",
    "print(reversed_arr)\n"
   ]
  },
  {
   "cell_type": "code",
   "execution_count": null,
   "metadata": {
    "colab": {
     "base_uri": "https://localhost:8080/"
    },
    "id": "Hdp2v4zMapgS",
    "outputId": "ede90849-47f9-4082-aafb-861d27e8520b"
   },
   "outputs": [
    {
     "name": "stdout",
     "output_type": "stream",
     "text": [
      "[[1 0 0 0]]\n"
     ]
    }
   ],
   "source": [
    "#task-7\n",
    "array_6 = np.array([[1,0,0,0]])\n",
    "print(array_6)"
   ]
  },
  {
   "cell_type": "markdown",
   "metadata": {
    "id": "TXCV7rWbbM6t"
   },
   "source": [
    "Task-8\n"
   ]
  },
  {
   "cell_type": "code",
   "execution_count": null,
   "metadata": {
    "colab": {
     "base_uri": "https://localhost:8080/"
    },
    "id": "ZSA3nZxFbOFm",
    "outputId": "87229b5d-b3d1-4a74-e352-471f55f450eb"
   },
   "outputs": [
    {
     "data": {
      "text/plain": [
       "array([[1, 1, 1],\n",
       "       [1, 0, 1],\n",
       "       [1, 1, 1]])"
      ]
     },
     "execution_count": 10,
     "metadata": {},
     "output_type": "execute_result"
    }
   ],
   "source": [
    "# prompt: Create a 2d array with 1 on border and 0 inside.\n",
    "\n",
    "import numpy as np\n",
    "\n",
    "def create_border_array(rows, cols):\n",
    "  \"\"\"Creates a 2D array with 1s on the border and 0s inside.\n",
    "\n",
    "  Args:\n",
    "    rows: The number of rows in the array.\n",
    "    cols: The number of columns in the array.\n",
    "\n",
    "  Returns:\n",
    "    A NumPy array with the specified dimensions and border.\n",
    "  \"\"\"\n",
    "\n",
    "  arr = np.zeros((rows, cols), dtype=int)\n",
    "  arr[0, :] = 1  # Top row\n",
    "  arr[-1, :] = 1  # Bottom row\n",
    "  arr[:, 0] = 1  # Left column\n",
    "  arr[:, -1] = 1  # Right column\n",
    "  return arr\n",
    "\n",
    "# Example usage:\n",
    "rows = 3\n",
    "cols = 3\n",
    "result_array = create_border_array(rows, cols)\n",
    "result_array"
   ]
  },
  {
   "cell_type": "markdown",
   "metadata": {
    "id": "JceWgvKobOi1"
   },
   "source": [
    "task-9"
   ]
  },
  {
   "cell_type": "code",
   "execution_count": null,
   "metadata": {
    "id": "jVZZgMTabZJC"
   },
   "outputs": [],
   "source": []
  },
  {
   "cell_type": "markdown",
   "metadata": {
    "id": "aY68ttI7bbn_"
   },
   "source": [
    "Problem-3\n"
   ]
  },
  {
   "cell_type": "code",
   "execution_count": null,
   "metadata": {
    "colab": {
     "base_uri": "https://localhost:8080/"
    },
    "id": "aA_RrR4lbck1",
    "outputId": "651b2285-e09f-46d2-d36d-efdfabb9e576"
   },
   "outputs": [
    {
     "name": "stdout",
     "output_type": "stream",
     "text": [
      "Addition1:\n",
      " [[ 6  8]\n",
      " [10 13]]\n",
      "Addition2:\n",
      " [20 22]\n",
      "Subtraction1:\n",
      " [[-4 -4]\n",
      " [-4 -3]]\n",
      "Subtraction2:\n",
      " [2 2]\n",
      "X:\n",
      " [[ 2  4]\n",
      " [ 6 10]]\n",
      "Y:\n",
      " [[15 18]\n",
      " [21 24]]\n",
      "V:\n",
      " [36 40]\n",
      "Z:\n",
      " [55 60]\n",
      "Square root of x:\n",
      " [[1.         1.41421356]\n",
      " [1.73205081 2.23606798]]\n",
      "Square root of y:\n",
      " [[2.23606798 2.44948974]\n",
      " [2.64575131 2.82842712]]\n",
      "Square root of v:\n",
      " [3.         3.16227766]\n",
      "Square root of w:\n",
      " [3.31662479 3.46410162]\n",
      "Dot product of v and w arrays:\n",
      " 219\n",
      "Dot product of x and v arrays:\n",
      " [29 77]\n",
      "Dot product of x and y arrays:\n",
      " [[19 22]\n",
      " [50 58]]\n",
      "Stacked v and w arrays:\n",
      " [[ 9 10]\n",
      " [11 12]]\n",
      "Stacked x and y arrays (vertically):\n",
      " [[1 2]\n",
      " [3 5]\n",
      " [5 6]\n",
      " [7 8]]\n",
      "Stacked x and v arrays (vertically):\n",
      " [[ 1  2]\n",
      " [ 3  5]\n",
      " [ 9 10]]\n"
     ]
    }
   ],
   "source": [
    "\n",
    "\n",
    "x = np.array([[1, 2], [3, 5]])\n",
    "y = np.array([[5, 6], [7, 8]])\n",
    "v = np.array([9, 10])\n",
    "w = np.array([11, 12])\n",
    "\n",
    "# Task-1\n",
    "add = x + y\n",
    "add2 = w + v\n",
    "print(\"Addition1:\\n\", add)\n",
    "print(\"Addition2:\\n\", add2)\n",
    "\n",
    "#Task-2\n",
    "\n",
    "sub = x-y\n",
    "sub2= w-v\n",
    "print(\"Subtraction1:\\n\", sub)\n",
    "print(\"Subtraction2:\\n\", sub2)\n",
    "\n",
    "\n",
    "#Task-3\n",
    "new_x = x*2\n",
    "new_y = y*3\n",
    "new_v = v*4\n",
    "new_w = w*5\n",
    "print(\"X:\\n\", new_x)\n",
    "print(\"Y:\\n\", new_y)\n",
    "print(\"V:\\n\", new_v)\n",
    "print(\"Z:\\n\", new_w)\n",
    "\n",
    "#Task-4\n",
    "x = np.array([[1, 2], [3, 5]])\n",
    "y = np.array([[5, 6], [7, 8]])\n",
    "v = np.array([9, 10])\n",
    "w = np.array([11, 12])\n",
    "sqrt_x = np.sqrt(x)\n",
    "sqrt_y = np.sqrt(y)\n",
    "sqrt_v = np.sqrt(v)\n",
    "sqrt_w = np.sqrt(w)\n",
    "\n",
    "print(\"Square root of x:\\n\", sqrt_x)\n",
    "print(\"Square root of y:\\n\", sqrt_y)\n",
    "print(\"Square root of v:\\n\", sqrt_v)\n",
    "print(\"Square root of w:\\n\", sqrt_w)\n",
    "\n",
    "#Task-5\n",
    "dot_v_w=np.dot(v,w)\n",
    "dot_x_v=np.dot(x,v)\n",
    "dot_x_y=np.dot(x,y)\n",
    "print(\"Dot product of v and w arrays:\\n\", dot_v_w)\n",
    "print(\"Dot product of x and v arrays:\\n\", dot_x_v)\n",
    "print(\"Dot product of x and y arrays:\\n\", dot_x_y)\n",
    "\n",
    "#Task-6\n",
    "\n",
    "array_v_w = np.stack((v, w), axis=0)\n",
    "print(\"Stacked v and w arrays:\\n\", array_v_w)\n",
    "\n",
    "\n",
    "array_x_y = np.vstack((x, y))\n",
    "print(\"Stacked x and y arrays (vertically):\\n\", array_x_y)\n",
    "\n",
    "#Task-7\n",
    "array_x_v=np.vstack((x,v))\n",
    "print(\"Stacked x and v arrays (vertically):\\n\", array_x_v)\n",
    "#array_x_v=np.hstack((x,v))\n",
    "\n",
    "\n",
    "\n"
   ]
  },
  {
   "cell_type": "markdown",
   "metadata": {
    "id": "S6St7Lbgewa3"
   },
   "source": [
    "Problem-4"
   ]
  },
  {
   "cell_type": "code",
   "execution_count": null,
   "metadata": {
    "colab": {
     "base_uri": "https://localhost:8080/"
    },
    "id": "m7bX0tUqexr-",
    "outputId": "3c626d8c-e85f-4262-a731-dac61bb49bea"
   },
   "outputs": [
    {
     "name": "stdout",
     "output_type": "stream",
     "text": [
      "A * A_inv = \n",
      " [[1.00000000e+00 0.00000000e+00]\n",
      " [1.77635684e-15 1.00000000e+00]]\n",
      "\n",
      "Identity matrix I:\n",
      " [[1. 0.]\n",
      " [0. 1.]]\n",
      "\n",
      "Is A * A_inv approximately equal to I?  True\n",
      "AB = \n",
      " [[23 13]\n",
      " [51 29]]\n",
      "\n",
      "BA = \n",
      " [[36 44]\n",
      " [13 16]]\n",
      "\n",
      "Is AB equal to BA?  False\n",
      "(AB)T =\n",
      " [[23 51]\n",
      " [13 29]]\n",
      "(B)T(A)T =\n",
      " [[23 51]\n",
      " [13 29]]\n",
      "\n",
      "Is (AB)T equal to (B)t(A)t?  True\n"
     ]
    }
   ],
   "source": [
    "#Task-1\n",
    "\n",
    "import numpy as np\n",
    "\n",
    "A = np.array([[3, 4], [7, 8]])\n",
    "A_inv = np.linalg.inv(A)\n",
    "result = np.dot(A, A_inv)\n",
    "print(\"A * A_inv = \\n\", result)\n",
    "I = np.eye(2)\n",
    "print(\"\\nIdentity matrix I:\\n\", I)\n",
    "print(\"\\nIs A * A_inv approximately equal to I? \", np.allclose(result, I))\n",
    "\n",
    "\n",
    "#task-2\n",
    "A = np.array([[3, 4], [7, 8]])\n",
    "B = np.array([[5, 3], [2, 1]])\n",
    "AB = np.dot(A, B)\n",
    "BA = np.dot(B, A)\n",
    "print(\"AB = \\n\", AB)\n",
    "print(\"\\nBA = \\n\", BA)\n",
    "print(\"\\nIs AB equal to BA? \", np.array_equal(AB, BA))\n",
    "\n",
    "#task-3\n",
    "transpose_AB= AB.transpose()\n",
    "print(\"(AB)T =\\n\",transpose_AB)\n",
    "\n",
    "transpose_B= B.transpose()\n",
    "transpose_A= A.transpose()\n",
    "AB_transpose= np.dot(transpose_B,transpose_A)\n",
    "print(\"(B)T(A)T =\\n\",AB_transpose)\n",
    "print(\"\\nIs (AB)T equal to (B)t(A)t? \", np.array_equal(transpose_AB, AB_transpose))\n",
    "\n",
    "\n",
    "\n"
   ]
  },
  {
   "cell_type": "code",
   "execution_count": null,
   "metadata": {
    "id": "gTtId1EIf1Tg"
   },
   "outputs": [],
   "source": [
    "#Solve Linear methods\n",
    "import numpy as np\n",
    "A = np.array([[2,-3,1],[1,-1,2],[3,1,-1]])\n",
    "B = np.array([-1,-3,9])\n",
    "A_inv = np.linalg.inv(A)\n",
    "A_muls_B = np.dot(A_inv,B)\n",
    "print(\"Value of X,Y and Z are = \\n\",A_muls_B)\n",
    "\n",
    "\n"
   ]
  },
  {
   "cell_type": "markdown",
   "metadata": {
    "id": "wGYuR4S6k0hg"
   },
   "source": [
    "Experiment Qn-4.2"
   ]
  },
  {
   "cell_type": "code",
   "execution_count": null,
   "metadata": {
    "colab": {
     "base_uri": "https://localhost:8080/"
    },
    "id": "87p38aVIj6lT",
    "outputId": "40e537d7-7d6b-4557-b22a-ad512e02ac1b"
   },
   "outputs": [
    {
     "name": "stdout",
     "output_type": "stream",
     "text": [
      "Time taken for element-wise addition using Python lists: 0.167946 seconds\n",
      "Time taken for element-wise addition using NumPy arrays: 0.004653 seconds\n"
     ]
    }
   ],
   "source": [
    "#using time.time()\n",
    "import time\n",
    "import numpy as np\n",
    "\n",
    "# Create two lists of size 1,000,000\n",
    "size = 1_000_000\n",
    "list1 = [i for i in range(size)]\n",
    "list2 = [i for i in range(size)]\n",
    "start_time_list = time.time()\n",
    "result_list = [list1[i] + list2[i] for i in range(size)]\n",
    "end_time_list = time.time()\n",
    "time_list = end_time_list - start_time_list\n",
    "\n",
    "print(f\"Time taken for element-wise addition using Python lists: {end_time_list - start_time_list:.6f} seconds\")\n",
    "\n",
    "array1 = np.arange(size)\n",
    "array2 = np.arange(size)\n",
    "\n",
    "start_time_numpy = time.time()\n",
    "result_array = array1 + array2\n",
    "end_time_numpy = time.time()\n",
    "time_numpy = end_time_numpy - start_time_numpy\n",
    "\n",
    "\n",
    "print(f\"Time taken for element-wise addition using NumPy arrays: {end_time_numpy - start_time_numpy:.6f} seconds\")\n",
    "\n",
    "\n",
    "\n"
   ]
  },
  {
   "cell_type": "code",
   "execution_count": null,
   "metadata": {
    "colab": {
     "base_uri": "https://localhost:8080/"
    },
    "id": "an82qHypleYg",
    "outputId": "fe1a75d6-2651-4802-8b09-47d3f79ea671"
   },
   "outputs": [
    {
     "name": "stdout",
     "output_type": "stream",
     "text": [
      "Time taken for element-wise multiplication using Python lists: 0.169059 seconds\n",
      "Time taken for element-wise multiplication using NumPy arrays: 0.002747 seconds\n"
     ]
    }
   ],
   "source": [
    "import time\n",
    "import numpy as np\n",
    "size = 1_000_000\n",
    "list1 = [i for i in range(size)]\n",
    "list2 = [i for i in range(size)]\n",
    "start_time_list = time.time()\n",
    "result_list = [list1[i] * list2[i] for i in range(size)]\n",
    "end_time_list = time.time()\n",
    "time_list = end_time_list - start_time_list\n",
    "print(f\"Time taken for element-wise multiplication using Python lists: {time_list:.6f} seconds\")\n",
    "array1 = np.arange(size)\n",
    "array2 = np.arange(size)\n",
    "start_time_numpy = time.time()\n",
    "result_array = array1 * array2\n",
    "end_time_numpy = time.time()\n",
    "time_numpy = end_time_numpy - start_time_numpy\n",
    "print(f\"Time taken for element-wise multiplication using NumPy arrays: {time_numpy:.6f} seconds\")\n"
   ]
  },
  {
   "cell_type": "code",
   "execution_count": null,
   "metadata": {
    "colab": {
     "base_uri": "https://localhost:8080/"
    },
    "id": "2UGjrGYPnDR1",
    "outputId": "450ad84b-670e-419f-9f30-6172b299979d"
   },
   "outputs": [
    {
     "name": "stdout",
     "output_type": "stream",
     "text": [
      "Time taken for dot product using Python lists: 0.165247 seconds\n",
      "Time taken for dot product using NumPy arrays: 0.001653 seconds\n"
     ]
    }
   ],
   "source": [
    "import time\n",
    "import numpy as np\n",
    "\n",
    "size = 1_000_000\n",
    "list1 = [i for i in range(size)]\n",
    "list2 = [i for i in range(size)]\n",
    "\n",
    "start_time_list = time.time()\n",
    "dot_product_list = sum(list1[i] * list2[i] for i in range(size))\n",
    "end_time_list = time.time()\n",
    "time_list = end_time_list - start_time_list\n",
    "print(f\"Time taken for dot product using Python lists: {time_list:.6f} seconds\")\n",
    "\n",
    "array1 = np.arange(size)\n",
    "array2 = np.arange(size)\n",
    "\n",
    "start_time_numpy = time.time()\n",
    "dot_product_numpy = np.dot(array1, array2)\n",
    "end_time_numpy = time.time()\n",
    "time_numpy = end_time_numpy - start_time_numpy\n",
    "print(f\"Time taken for dot product using NumPy arrays: {time_numpy:.6f} seconds\")\n",
    "\n",
    "\n"
   ]
  },
  {
   "cell_type": "code",
   "execution_count": null,
   "metadata": {
    "colab": {
     "base_uri": "https://localhost:8080/"
    },
    "id": "y1FsrjPinc8z",
    "outputId": "f8cd9795-9967-4464-8997-e778e0b8f2b5"
   },
   "outputs": [
    {
     "name": "stdout",
     "output_type": "stream",
     "text": [
      "Time taken for matrix multiplication using Python lists: 223.348025 seconds\n",
      "Time taken for matrix multiplication using NumPy arrays: 0.005856 seconds\n"
     ]
    }
   ],
   "source": [
    "import time\n",
    "import numpy as np\n",
    "\n",
    "size = 1000\n",
    "matrix1 = [[i for i in range(size)] for _ in range(size)]\n",
    "matrix2 = [[i for i in range(size)] for _ in range(size)]\n",
    "\n",
    "start_time_list = time.time()\n",
    "result_list = [[sum(matrix1[i][k] * matrix2[k][j] for k in range(size)) for j in range(size)] for i in range(size)]\n",
    "end_time_list = time.time()\n",
    "time_list = end_time_list - start_time_list\n",
    "print(f\"Time taken for matrix multiplication using Python lists: {time_list:.6f} seconds\")\n",
    "\n",
    "array1 = np.arange(size * size).reshape(size, size)\n",
    "array2 = np.arange(size * size).reshape(size, size)\n",
    "\n",
    "start_time_numpy = time.time()\n",
    "result_array = np.dot(array1, array2)  \n",
    "end_time_numpy = time.time()\n",
    "\n",
    "print(f\"Time taken for matrix multiplication using NumPy arrays: {time_numpy:.6f} seconds\")\n",
    "\n"
   ]
  }
 ],
 "metadata": {
  "colab": {
   "provenance": []
  },
  "kernelspec": {
   "display_name": "Python 3",
   "name": "python3"
  },
  "language_info": {
   "name": "python"
  }
 },
 "nbformat": 4,
 "nbformat_minor": 0
}
