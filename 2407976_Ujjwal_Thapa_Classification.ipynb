{
  "nbformat": 4,
  "nbformat_minor": 0,
  "metadata": {
    "colab": {
      "provenance": []
    },
    "kernelspec": {
      "name": "python3",
      "display_name": "Python 3"
    },
    "language_info": {
      "name": "python"
    },
    "widgets": {
      "application/vnd.jupyter.widget-state+json": {
        "ddcec6420ce345a0b3b05f00776b3955": {
          "model_module": "@jupyter-widgets/controls",
          "model_name": "HBoxModel",
          "model_module_version": "1.5.0",
          "state": {
            "_dom_classes": [],
            "_model_module": "@jupyter-widgets/controls",
            "_model_module_version": "1.5.0",
            "_model_name": "HBoxModel",
            "_view_count": null,
            "_view_module": "@jupyter-widgets/controls",
            "_view_module_version": "1.5.0",
            "_view_name": "HBoxView",
            "box_style": "",
            "children": [
              "IPY_MODEL_7c922670e65749dab09348ea3cfbc816",
              "IPY_MODEL_c4b5133dadd94333addaec80b0f61fcd",
              "IPY_MODEL_c6ecfce8dbc347b1bda3eba37579415b"
            ],
            "layout": "IPY_MODEL_1ee807dac70c4dd1ac55cf1619512b7a"
          }
        },
        "7c922670e65749dab09348ea3cfbc816": {
          "model_module": "@jupyter-widgets/controls",
          "model_name": "HTMLModel",
          "model_module_version": "1.5.0",
          "state": {
            "_dom_classes": [],
            "_model_module": "@jupyter-widgets/controls",
            "_model_module_version": "1.5.0",
            "_model_name": "HTMLModel",
            "_view_count": null,
            "_view_module": "@jupyter-widgets/controls",
            "_view_module_version": "1.5.0",
            "_view_name": "HTMLView",
            "description": "",
            "description_tooltip": null,
            "layout": "IPY_MODEL_8279d4ffdb764563a89c707d33057e25",
            "placeholder": "​",
            "style": "IPY_MODEL_9a5d5eef7b9240aab5de169a0e143105",
            "value": "100%"
          }
        },
        "c4b5133dadd94333addaec80b0f61fcd": {
          "model_module": "@jupyter-widgets/controls",
          "model_name": "FloatProgressModel",
          "model_module_version": "1.5.0",
          "state": {
            "_dom_classes": [],
            "_model_module": "@jupyter-widgets/controls",
            "_model_module_version": "1.5.0",
            "_model_name": "FloatProgressModel",
            "_view_count": null,
            "_view_module": "@jupyter-widgets/controls",
            "_view_module_version": "1.5.0",
            "_view_name": "ProgressView",
            "bar_style": "success",
            "description": "",
            "description_tooltip": null,
            "layout": "IPY_MODEL_137c1b5955454efb995d1ffbf728ddc8",
            "max": 1000,
            "min": 0,
            "orientation": "horizontal",
            "style": "IPY_MODEL_4cc83ec2fcad48168c36f6b13a986090",
            "value": 1000
          }
        },
        "c6ecfce8dbc347b1bda3eba37579415b": {
          "model_module": "@jupyter-widgets/controls",
          "model_name": "HTMLModel",
          "model_module_version": "1.5.0",
          "state": {
            "_dom_classes": [],
            "_model_module": "@jupyter-widgets/controls",
            "_model_module_version": "1.5.0",
            "_model_name": "HTMLModel",
            "_view_count": null,
            "_view_module": "@jupyter-widgets/controls",
            "_view_module_version": "1.5.0",
            "_view_name": "HTMLView",
            "description": "",
            "description_tooltip": null,
            "layout": "IPY_MODEL_0a7feb7582844a32ae14611bee71d235",
            "placeholder": "​",
            "style": "IPY_MODEL_e7755e4a848046be9ae1c7d9c28c1ba4",
            "value": " 1000/1000 [00:02&lt;00:00, 541.47it/s]"
          }
        },
        "1ee807dac70c4dd1ac55cf1619512b7a": {
          "model_module": "@jupyter-widgets/base",
          "model_name": "LayoutModel",
          "model_module_version": "1.2.0",
          "state": {
            "_model_module": "@jupyter-widgets/base",
            "_model_module_version": "1.2.0",
            "_model_name": "LayoutModel",
            "_view_count": null,
            "_view_module": "@jupyter-widgets/base",
            "_view_module_version": "1.2.0",
            "_view_name": "LayoutView",
            "align_content": null,
            "align_items": null,
            "align_self": null,
            "border": null,
            "bottom": null,
            "display": null,
            "flex": null,
            "flex_flow": null,
            "grid_area": null,
            "grid_auto_columns": null,
            "grid_auto_flow": null,
            "grid_auto_rows": null,
            "grid_column": null,
            "grid_gap": null,
            "grid_row": null,
            "grid_template_areas": null,
            "grid_template_columns": null,
            "grid_template_rows": null,
            "height": null,
            "justify_content": null,
            "justify_items": null,
            "left": null,
            "margin": null,
            "max_height": null,
            "max_width": null,
            "min_height": null,
            "min_width": null,
            "object_fit": null,
            "object_position": null,
            "order": null,
            "overflow": null,
            "overflow_x": null,
            "overflow_y": null,
            "padding": null,
            "right": null,
            "top": null,
            "visibility": null,
            "width": null
          }
        },
        "8279d4ffdb764563a89c707d33057e25": {
          "model_module": "@jupyter-widgets/base",
          "model_name": "LayoutModel",
          "model_module_version": "1.2.0",
          "state": {
            "_model_module": "@jupyter-widgets/base",
            "_model_module_version": "1.2.0",
            "_model_name": "LayoutModel",
            "_view_count": null,
            "_view_module": "@jupyter-widgets/base",
            "_view_module_version": "1.2.0",
            "_view_name": "LayoutView",
            "align_content": null,
            "align_items": null,
            "align_self": null,
            "border": null,
            "bottom": null,
            "display": null,
            "flex": null,
            "flex_flow": null,
            "grid_area": null,
            "grid_auto_columns": null,
            "grid_auto_flow": null,
            "grid_auto_rows": null,
            "grid_column": null,
            "grid_gap": null,
            "grid_row": null,
            "grid_template_areas": null,
            "grid_template_columns": null,
            "grid_template_rows": null,
            "height": null,
            "justify_content": null,
            "justify_items": null,
            "left": null,
            "margin": null,
            "max_height": null,
            "max_width": null,
            "min_height": null,
            "min_width": null,
            "object_fit": null,
            "object_position": null,
            "order": null,
            "overflow": null,
            "overflow_x": null,
            "overflow_y": null,
            "padding": null,
            "right": null,
            "top": null,
            "visibility": null,
            "width": null
          }
        },
        "9a5d5eef7b9240aab5de169a0e143105": {
          "model_module": "@jupyter-widgets/controls",
          "model_name": "DescriptionStyleModel",
          "model_module_version": "1.5.0",
          "state": {
            "_model_module": "@jupyter-widgets/controls",
            "_model_module_version": "1.5.0",
            "_model_name": "DescriptionStyleModel",
            "_view_count": null,
            "_view_module": "@jupyter-widgets/base",
            "_view_module_version": "1.2.0",
            "_view_name": "StyleView",
            "description_width": ""
          }
        },
        "137c1b5955454efb995d1ffbf728ddc8": {
          "model_module": "@jupyter-widgets/base",
          "model_name": "LayoutModel",
          "model_module_version": "1.2.0",
          "state": {
            "_model_module": "@jupyter-widgets/base",
            "_model_module_version": "1.2.0",
            "_model_name": "LayoutModel",
            "_view_count": null,
            "_view_module": "@jupyter-widgets/base",
            "_view_module_version": "1.2.0",
            "_view_name": "LayoutView",
            "align_content": null,
            "align_items": null,
            "align_self": null,
            "border": null,
            "bottom": null,
            "display": null,
            "flex": null,
            "flex_flow": null,
            "grid_area": null,
            "grid_auto_columns": null,
            "grid_auto_flow": null,
            "grid_auto_rows": null,
            "grid_column": null,
            "grid_gap": null,
            "grid_row": null,
            "grid_template_areas": null,
            "grid_template_columns": null,
            "grid_template_rows": null,
            "height": null,
            "justify_content": null,
            "justify_items": null,
            "left": null,
            "margin": null,
            "max_height": null,
            "max_width": null,
            "min_height": null,
            "min_width": null,
            "object_fit": null,
            "object_position": null,
            "order": null,
            "overflow": null,
            "overflow_x": null,
            "overflow_y": null,
            "padding": null,
            "right": null,
            "top": null,
            "visibility": null,
            "width": null
          }
        },
        "4cc83ec2fcad48168c36f6b13a986090": {
          "model_module": "@jupyter-widgets/controls",
          "model_name": "ProgressStyleModel",
          "model_module_version": "1.5.0",
          "state": {
            "_model_module": "@jupyter-widgets/controls",
            "_model_module_version": "1.5.0",
            "_model_name": "ProgressStyleModel",
            "_view_count": null,
            "_view_module": "@jupyter-widgets/base",
            "_view_module_version": "1.2.0",
            "_view_name": "StyleView",
            "bar_color": null,
            "description_width": ""
          }
        },
        "0a7feb7582844a32ae14611bee71d235": {
          "model_module": "@jupyter-widgets/base",
          "model_name": "LayoutModel",
          "model_module_version": "1.2.0",
          "state": {
            "_model_module": "@jupyter-widgets/base",
            "_model_module_version": "1.2.0",
            "_model_name": "LayoutModel",
            "_view_count": null,
            "_view_module": "@jupyter-widgets/base",
            "_view_module_version": "1.2.0",
            "_view_name": "LayoutView",
            "align_content": null,
            "align_items": null,
            "align_self": null,
            "border": null,
            "bottom": null,
            "display": null,
            "flex": null,
            "flex_flow": null,
            "grid_area": null,
            "grid_auto_columns": null,
            "grid_auto_flow": null,
            "grid_auto_rows": null,
            "grid_column": null,
            "grid_gap": null,
            "grid_row": null,
            "grid_template_areas": null,
            "grid_template_columns": null,
            "grid_template_rows": null,
            "height": null,
            "justify_content": null,
            "justify_items": null,
            "left": null,
            "margin": null,
            "max_height": null,
            "max_width": null,
            "min_height": null,
            "min_width": null,
            "object_fit": null,
            "object_position": null,
            "order": null,
            "overflow": null,
            "overflow_x": null,
            "overflow_y": null,
            "padding": null,
            "right": null,
            "top": null,
            "visibility": null,
            "width": null
          }
        },
        "e7755e4a848046be9ae1c7d9c28c1ba4": {
          "model_module": "@jupyter-widgets/controls",
          "model_name": "DescriptionStyleModel",
          "model_module_version": "1.5.0",
          "state": {
            "_model_module": "@jupyter-widgets/controls",
            "_model_module_version": "1.5.0",
            "_model_name": "DescriptionStyleModel",
            "_view_count": null,
            "_view_module": "@jupyter-widgets/base",
            "_view_module_version": "1.2.0",
            "_view_name": "StyleView",
            "description_width": ""
          }
        }
      }
    }
  },
  "cells": [
    {
      "cell_type": "code",
      "execution_count": 53,
      "metadata": {
        "id": "xHqERX3ee3uO"
      },
      "outputs": [],
      "source": [
        "import pandas as pd\n",
        "import numpy as np\n",
        "import matplotlib.pyplot as plt\n",
        "import seaborn as sns"
      ]
    },
    {
      "cell_type": "code",
      "source": [
        "from google.colab import drive\n",
        "drive.mount('/content/drive')"
      ],
      "metadata": {
        "colab": {
          "base_uri": "https://localhost:8080/"
        },
        "id": "PraPaU37dxzK",
        "outputId": "d1641b5d-852f-45de-9e4c-5b589789de89"
      },
      "execution_count": 54,
      "outputs": [
        {
          "output_type": "stream",
          "name": "stdout",
          "text": [
            "Drive already mounted at /content/drive; to attempt to forcibly remount, call drive.mount(\"/content/drive\", force_remount=True).\n"
          ]
        }
      ]
    },
    {
      "cell_type": "markdown",
      "source": [
        "##Data Analysis and Data Exploring\n"
      ],
      "metadata": {
        "id": "Ujz-ZRprGwtu"
      }
    },
    {
      "cell_type": "code",
      "source": [
        "df= pd.read_csv('/content/drive/MyDrive/Final Assessment 2/gender_classification_v7.csv')\n",
        "\n",
        "# Displaying the first few rows of the dataset\n",
        "print(\"Dataset Preview:\")\n",
        "print(df.head())\n",
        "\n",
        "# Dataset description\n",
        "print(\"\\nDataset Information:\")\n",
        "print(df.info())\n",
        "\n",
        "# Summary statistics\n",
        "print(\"\\nSummary Statistics:\")\n",
        "print(df.describe())\n",
        "\n",
        "# List of attributes (columns)\n",
        "columns = df.columns.tolist()\n",
        "print(\"\\nList of Attributes (Columns):\")\n",
        "print(columns)"
      ],
      "metadata": {
        "colab": {
          "base_uri": "https://localhost:8080/"
        },
        "id": "D6u-4EKLGt9J",
        "outputId": "c56235eb-bcdf-43fc-bbc7-45b01c559280"
      },
      "execution_count": 55,
      "outputs": [
        {
          "output_type": "stream",
          "name": "stdout",
          "text": [
            "Dataset Preview:\n",
            "   long_hair  forehead_width_cm  forehead_height_cm  nose_wide  nose_long  \\\n",
            "0          1               11.8                 6.1          1          0   \n",
            "1          0               14.0                 5.4          0          0   \n",
            "2          0               11.8                 6.3          1          1   \n",
            "3          0               14.4                 6.1          0          1   \n",
            "4          1               13.5                 5.9          0          0   \n",
            "\n",
            "   lips_thin  distance_nose_to_lip_long  gender  \n",
            "0          1                          1    Male  \n",
            "1          1                          0  Female  \n",
            "2          1                          1    Male  \n",
            "3          1                          1    Male  \n",
            "4          0                          0  Female  \n",
            "\n",
            "Dataset Information:\n",
            "<class 'pandas.core.frame.DataFrame'>\n",
            "RangeIndex: 5001 entries, 0 to 5000\n",
            "Data columns (total 8 columns):\n",
            " #   Column                     Non-Null Count  Dtype  \n",
            "---  ------                     --------------  -----  \n",
            " 0   long_hair                  5001 non-null   int64  \n",
            " 1   forehead_width_cm          5001 non-null   float64\n",
            " 2   forehead_height_cm         5001 non-null   float64\n",
            " 3   nose_wide                  5001 non-null   int64  \n",
            " 4   nose_long                  5001 non-null   int64  \n",
            " 5   lips_thin                  5001 non-null   int64  \n",
            " 6   distance_nose_to_lip_long  5001 non-null   int64  \n",
            " 7   gender                     5001 non-null   object \n",
            "dtypes: float64(2), int64(5), object(1)\n",
            "memory usage: 312.7+ KB\n",
            "None\n",
            "\n",
            "Summary Statistics:\n",
            "         long_hair  forehead_width_cm  forehead_height_cm    nose_wide  \\\n",
            "count  5001.000000        5001.000000         5001.000000  5001.000000   \n",
            "mean      0.869626          13.181484            5.946311     0.493901   \n",
            "std       0.336748           1.107128            0.541268     0.500013   \n",
            "min       0.000000          11.400000            5.100000     0.000000   \n",
            "25%       1.000000          12.200000            5.500000     0.000000   \n",
            "50%       1.000000          13.100000            5.900000     0.000000   \n",
            "75%       1.000000          14.000000            6.400000     1.000000   \n",
            "max       1.000000          15.500000            7.100000     1.000000   \n",
            "\n",
            "         nose_long    lips_thin  distance_nose_to_lip_long  \n",
            "count  5001.000000  5001.000000                5001.000000  \n",
            "mean      0.507898     0.493101                   0.498900  \n",
            "std       0.499988     0.500002                   0.500049  \n",
            "min       0.000000     0.000000                   0.000000  \n",
            "25%       0.000000     0.000000                   0.000000  \n",
            "50%       1.000000     0.000000                   0.000000  \n",
            "75%       1.000000     1.000000                   1.000000  \n",
            "max       1.000000     1.000000                   1.000000  \n",
            "\n",
            "List of Attributes (Columns):\n",
            "['long_hair', 'forehead_width_cm', 'forehead_height_cm', 'nose_wide', 'nose_long', 'lips_thin', 'distance_nose_to_lip_long', 'gender']\n"
          ]
        }
      ]
    },
    {
      "cell_type": "markdown",
      "source": [
        "##Data Cleaning"
      ],
      "metadata": {
        "id": "ebZL4FugIkQK"
      }
    },
    {
      "cell_type": "code",
      "source": [
        "\n",
        "df[\"gender\"] = df[\"gender\"].map({\"Male\": 1, \"Female\": 0})\n",
        "\n",
        "\n",
        "df.dropna(subset=['gender'], inplace=True)\n",
        "\n",
        "\n",
        "print(df.dtypes)  # Should show 'Acidity' as float64\n",
        "print(df.head())\n",
        "\n",
        "# Checking for missing values\n",
        "missing_values = df.isnull().sum()\n",
        "print(\"\\nMissing Values in Each Column:\")\n",
        "print(missing_values)\n",
        "\n",
        "# Checking for duplicate rows|\n",
        "duplicate_vlaues = df.duplicated().sum()\n",
        "print(f\"\\nNumber of Duplicate Rows: {duplicate_vlaues}\")\n",
        "\n",
        "df= df.drop_duplicates()\n",
        "\n",
        "# Checking for duplicate rows\n",
        "duplicate_vlaues = df.duplicated().sum()\n",
        "print(f\"\\nNumber of Duplicate Rows: {duplicate_vlaues}\")\n"
      ],
      "metadata": {
        "colab": {
          "base_uri": "https://localhost:8080/"
        },
        "id": "o-_1N7uwIDPK",
        "outputId": "d2738a74-3312-4793-bcfd-b12b3e34bfd3"
      },
      "execution_count": 56,
      "outputs": [
        {
          "output_type": "stream",
          "name": "stdout",
          "text": [
            "long_hair                      int64\n",
            "forehead_width_cm            float64\n",
            "forehead_height_cm           float64\n",
            "nose_wide                      int64\n",
            "nose_long                      int64\n",
            "lips_thin                      int64\n",
            "distance_nose_to_lip_long      int64\n",
            "gender                         int64\n",
            "dtype: object\n",
            "   long_hair  forehead_width_cm  forehead_height_cm  nose_wide  nose_long  \\\n",
            "0          1               11.8                 6.1          1          0   \n",
            "1          0               14.0                 5.4          0          0   \n",
            "2          0               11.8                 6.3          1          1   \n",
            "3          0               14.4                 6.1          0          1   \n",
            "4          1               13.5                 5.9          0          0   \n",
            "\n",
            "   lips_thin  distance_nose_to_lip_long  gender  \n",
            "0          1                          1       1  \n",
            "1          1                          0       0  \n",
            "2          1                          1       1  \n",
            "3          1                          1       1  \n",
            "4          0                          0       0  \n",
            "\n",
            "Missing Values in Each Column:\n",
            "long_hair                    0\n",
            "forehead_width_cm            0\n",
            "forehead_height_cm           0\n",
            "nose_wide                    0\n",
            "nose_long                    0\n",
            "lips_thin                    0\n",
            "distance_nose_to_lip_long    0\n",
            "gender                       0\n",
            "dtype: int64\n",
            "\n",
            "Number of Duplicate Rows: 1768\n",
            "\n",
            "Number of Duplicate Rows: 0\n"
          ]
        }
      ]
    },
    {
      "cell_type": "markdown",
      "source": [
        "#Exploring the Data through Visualization\n"
      ],
      "metadata": {
        "id": "51Y1gXc6K6zR"
      }
    },
    {
      "cell_type": "markdown",
      "source": [
        "###Feature Correlation Heatmap\n"
      ],
      "metadata": {
        "id": "y6d5H9V65ksp"
      }
    },
    {
      "cell_type": "code",
      "source": [
        "plt.figure(figsize=(10, 6))\n",
        "sns.heatmap(df.corr(), annot=True, cmap=\"coolwarm\", fmt=\".2f\")\n",
        "plt.title(\"Feature Correlation Heatmap\")\n",
        "plt.show()\n"
      ],
      "metadata": {
        "id": "CgbyoORjI6px",
        "colab": {
          "base_uri": "https://localhost:8080/",
          "height": 711
        },
        "outputId": "60d4d824-9ae5-44fa-ccbf-571aace25957"
      },
      "execution_count": 86,
      "outputs": [
        {
          "output_type": "display_data",
          "data": {
            "text/plain": [
              "<Figure size 1000x600 with 2 Axes>"
            ],
            "image/png": "[encoded data removed]"
          },
          "metadata": {}
        }
      ]
    },
    {
      "cell_type": "markdown",
      "source": [
        "### Gender Distribution"
      ],
      "metadata": {
        "id": "Yi2by9Yqdd6x"
      }
    },
    {
      "cell_type": "code",
      "source": [
        "plt.figure(figsize=(6, 4))\n",
        "sns.countplot(x=df['gender'], palette=\"coolwarm\")\n",
        "plt.xticks([0, 1], ['Female', 'Male'])\n",
        "plt.title(\"Gender Distribution\")\n",
        "plt.xlabel(\"Gender\")\n",
        "plt.ylabel(\"Count\")\n",
        "plt.show()\n"
      ],
      "metadata": {
        "colab": {
          "base_uri": "https://localhost:8080/",
          "height": 497
        },
        "id": "PMS18i4Kdi-4",
        "outputId": "a23e9b25-6b2e-4b39-e720-d3c9cb253078"
      },
      "execution_count": 82,
      "outputs": [
        {
          "output_type": "stream",
          "name": "stderr",
          "text": [
            "<ipython-input-82-5e685dd0ec33>:2: FutureWarning: \n",
            "\n",
            "Passing `palette` without assigning `hue` is deprecated and will be removed in v0.14.0. Assign the `x` variable to `hue` and set `legend=False` for the same effect.\n",
            "\n",
            "  sns.countplot(x=df['gender'], palette=\"coolwarm\")\n"
          ]
        },
        {
          "output_type": "display_data",
          "data": {
            "text/plain": [
              "<Figure size 600x400 with 1 Axes>"
            ],
            "image/png": "[encoded data removed]"
          },
          "metadata": {}
        }
      ]
    },
    {
      "cell_type": "markdown",
      "source": [
        "###Forehead Width by Gender"
      ],
      "metadata": {
        "id": "Mv62_j26dmj2"
      }
    },
    {
      "cell_type": "code",
      "source": [
        "plt.figure(figsize=(8, 5))\n",
        "sns.boxplot(x=df['gender'], y=df['forehead_width_cm'], palette=\"Set2\")\n",
        "plt.xticks([0, 1], ['Female', 'Male'])\n",
        "plt.title(\"Forehead Width by Gender\")\n",
        "plt.xlabel(\"Gender\")\n",
        "plt.ylabel(\"Forehead Width (cm)\")\n",
        "plt.show()\n"
      ],
      "metadata": {
        "colab": {
          "base_uri": "https://localhost:8080/",
          "height": 574
        },
        "id": "gaV1nsyQdsn6",
        "outputId": "49ce4794-2b7f-498f-bd86-b6cf710a0566"
      },
      "execution_count": 87,
      "outputs": [
        {
          "output_type": "stream",
          "name": "stderr",
          "text": [
            "<ipython-input-87-63f902ece9f1>:2: FutureWarning: \n",
            "\n",
            "Passing `palette` without assigning `hue` is deprecated and will be removed in v0.14.0. Assign the `x` variable to `hue` and set `legend=False` for the same effect.\n",
            "\n",
            "  sns.boxplot(x=df['gender'], y=df['forehead_width_cm'], palette=\"Set2\")\n"
          ]
        },
        {
          "output_type": "display_data",
          "data": {
            "text/plain": [
              "<Figure size 800x500 with 1 Axes>"
            ],
            "image/png": "[encoded data removed]"
          },
          "metadata": {}
        }
      ]
    },
    {
      "cell_type": "markdown",
      "source": [
        "###Forehead Height Distribution"
      ],
      "metadata": {
        "id": "Fo6x0XTEe5OY"
      }
    },
    {
      "cell_type": "code",
      "source": [
        "plt.figure(figsize=(8, 5))\n",
        "sns.histplot(df['forehead_height_cm'], bins=20, kde=True, color='blue')\n",
        "plt.title(\"Forehead Height Distribution\")\n",
        "plt.xlabel(\"Forehead Height (cm)\")\n",
        "plt.ylabel(\"Frequency\")\n",
        "plt.show()\n"
      ],
      "metadata": {
        "colab": {
          "base_uri": "https://localhost:8080/",
          "height": 487
        },
        "id": "GwKdSusGe9Vs",
        "outputId": "750040e7-1280-40ca-8388-f9069d57f744"
      },
      "execution_count": 84,
      "outputs": [
        {
          "output_type": "display_data",
          "data": {
            "text/plain": [
              "<Figure size 800x500 with 1 Axes>"
            ],
            "image/png": "[encoded data removed]"
          },
          "metadata": {}
        }
      ]
    },
    {
      "cell_type": "markdown",
      "source": [
        "###Build a model from scratch"
      ],
      "metadata": {
        "id": "fuzk7WcHMSoj"
      }
    },
    {
      "cell_type": "code",
      "source": [
        "from sklearn.model_selection import train_test_split\n",
        "from sklearn.preprocessing import StandardScaler\n",
        "from sklearn.metrics import classification_report, accuracy_score\n",
        "\n",
        "X = df.drop(columns=[\"gender\"])\n",
        "Y = df[\"gender\"]\n",
        "\n",
        "if X.shape[0] == Y.shape[0]:\n",
        "  print(\"Continue Further\")\n",
        "else:\n",
        "  print(\"X and Y are not created correctly\")"
      ],
      "metadata": {
        "colab": {
          "base_uri": "https://localhost:8080/"
        },
        "id": "3JKvBH6-LNra",
        "outputId": "dc39c770-f733-4fca-b05a-8a883e8d6106"
      },
      "execution_count": 58,
      "outputs": [
        {
          "output_type": "stream",
          "name": "stdout",
          "text": [
            "Continue Further\n"
          ]
        }
      ]
    },
    {
      "cell_type": "code",
      "source": [
        "x_train, x_test, y_train, y_test = train_test_split(X, Y, test_size=0.3)\n",
        "# x_train = np.array(x_train, dtype=float)\n",
        "# x_test = np.array(x_test, dtype=float)\n",
        "# y_train = np.array(y_train, dtype=float)\n",
        "# y_test = np.array(y_test, dtype=float)\n",
        "print(y_test)\n",
        "print(x_test)\n",
        "print(\"Shape of X_train:\", x_train.shape)\n",
        "print(\"Shape of X_test:\", x_test.shape)\n",
        "print(\"Shape of y_train:\", y_train.shape)\n",
        "print(\"Shape of y_test:\", y_test.shape)\n",
        "if x_train.shape[0] == y_train.shape[0]:\n",
        "  print(\"Continue Further\")\n",
        "else:\n",
        "  print(\"x_train and y_train are not created correctly\")"
      ],
      "metadata": {
        "colab": {
          "base_uri": "https://localhost:8080/"
        },
        "id": "oWTMA0U0Mg7h",
        "outputId": "2a80cca0-4fa1-4d15-f40f-0301cecf2c6b"
      },
      "execution_count": 59,
      "outputs": [
        {
          "output_type": "stream",
          "name": "stdout",
          "text": [
            "1011    1\n",
            "2731    1\n",
            "1124    1\n",
            "1835    0\n",
            "211     0\n",
            "       ..\n",
            "1435    0\n",
            "712     0\n",
            "1002    1\n",
            "3169    1\n",
            "4362    1\n",
            "Name: gender, Length: 970, dtype: int64\n",
            "      long_hair  forehead_width_cm  forehead_height_cm  nose_wide  nose_long  \\\n",
            "1011          1               11.8                 6.7          1          0   \n",
            "2731          1               13.4                 5.9          1          1   \n",
            "1124          0               13.5                 7.1          1          1   \n",
            "1835          1               11.5                 6.3          0          0   \n",
            "211           1               13.8                 5.3          0          1   \n",
            "...         ...                ...                 ...        ...        ...   \n",
            "1435          1               14.3                 6.2          0          1   \n",
            "712           1               14.1                 5.7          0          0   \n",
            "1002          0               13.5                 6.4          1          1   \n",
            "3169          1               11.7                 5.6          1          1   \n",
            "4362          1               12.9                 6.8          1          1   \n",
            "\n",
            "      lips_thin  distance_nose_to_lip_long  \n",
            "1011          1                          1  \n",
            "2731          0                          0  \n",
            "1124          1                          1  \n",
            "1835          0                          0  \n",
            "211           0                          0  \n",
            "...         ...                        ...  \n",
            "1435          0                          0  \n",
            "712           0                          0  \n",
            "1002          1                          1  \n",
            "3169          1                          0  \n",
            "4362          1                          1  \n",
            "\n",
            "[970 rows x 7 columns]\n",
            "Shape of X_train: (2263, 7)\n",
            "Shape of X_test: (970, 7)\n",
            "Shape of y_train: (2263,)\n",
            "Shape of y_test: (970,)\n",
            "Continue Further\n"
          ]
        }
      ]
    },
    {
      "cell_type": "code",
      "source": [
        "\n",
        "def logistic_function(x):\n",
        "  \"\"\"\n",
        "  Computes the logistic function applied to any value of x.\n",
        "  Arguments:\n",
        "    x: scalar or numpy array of any size.\n",
        "  Returns:\n",
        "    y: logistic function applied to x.\n",
        "  \"\"\"\n",
        "  import numpy as np\n",
        "\n",
        "  y = 1 / (1 + np.exp(-x))\n",
        "  return y"
      ],
      "metadata": {
        "id": "1_QCAg6QMqPY"
      },
      "execution_count": 60,
      "outputs": []
    },
    {
      "cell_type": "code",
      "source": [
        "def log_loss(y_true, y_pred):\n",
        "  \"\"\"\n",
        "  Computes log loss for true target value y ={0 or 1} and predicted target value y' inbetween {0-1}.\n",
        "  Arguments:\n",
        "    y_true (scalar): true target value {0 or 1}.\n",
        "    y_pred (scalar): predicted taget value {0-1}.\n",
        "  Returns:\n",
        "    loss (float): loss/error value\n",
        "  \"\"\"\n",
        "  import numpy as np\n",
        "  loss = -y_true * np.log(y_pred) - (1 - y_true) * np.log(1 - y_pred)\n",
        "  return loss"
      ],
      "metadata": {
        "id": "H-Qxzb8dM2WD"
      },
      "execution_count": 61,
      "outputs": []
    },
    {
      "cell_type": "code",
      "source": [
        "def cost_function(y_true, y_pred):\n",
        "    \"\"\"\n",
        "    Computes log loss for inputs true value (0 or 1) and predicted value (between 0 and 1)\n",
        "    Args:\n",
        "      y_true    (array_like, shape (m,)): array of true values (0 or 1)\n",
        "      y_pred (array_like, shape (m,)): array of predicted values (probability of y_pred being 1)\n",
        "    Returns:\n",
        "      cost (float): nonnegative cost corresponding to y_true and y_pred\n",
        "    \"\"\"\n",
        "    assert len(y_true) == len(y_pred), \"Length of true values and length of predicted values do not match\"\n",
        "    n = len(y_true)\n",
        "    loss_vec = sum(log_loss(y_true, y_pred))\n",
        "    cost = loss_vec/n\n",
        "    return cost"
      ],
      "metadata": {
        "id": "b1pByEy-M4nv"
      },
      "execution_count": 62,
      "outputs": []
    },
    {
      "cell_type": "code",
      "source": [
        "def costfunction_logreg(X, y, w, b):\n",
        "    \"\"\"\n",
        "    Computes the cost function, given data and model parameters\n",
        "    Args:\n",
        "      X (ndarray, shape (m,n))  : data on features, m observations with n features\n",
        "      y (array_like, shape (m,)): array of true values of target (0 or 1)\n",
        "      w (array_like, shape (n,)): weight parameters of the model\n",
        "      b (float)                 : bias parameter of the model\n",
        "    Returns:\n",
        "      cost (float): nonnegative cost corresponding to y and y_dash\n",
        "    \"\"\"\n",
        "    m, n = X.shape\n",
        "    assert len(y) == m, \"Number of feature observations and number of target observations do not match\"\n",
        "    assert len(w) == n, \"Number of features and number of weight parameters do not match\"\n",
        "    z = X.dot(w) + b\n",
        "    y_pred = 1/(1+np.exp(-z))\n",
        "    cost = cost_function(y, y_pred)\n",
        "    return cost"
      ],
      "metadata": {
        "id": "3bb8z9NmM6zM"
      },
      "execution_count": 63,
      "outputs": []
    },
    {
      "cell_type": "code",
      "source": [
        "# Function to compute gradients of the cost function with respect to model parameters - using vectorization\n",
        "def compute_gradient(X, y, w, b):\n",
        "    \"\"\"\n",
        "    Computes gradients of the cost function with respect to model parameters\n",
        "    Args:\n",
        "      X (ndarray, shape (m,n))  : data on features, m observations with n features\n",
        "      y (array_like, shape (m,)): array of true values of target (0 or 1)\n",
        "      w (array_like, shape (n,)): weight parameters of the model\n",
        "      b (float)                 : bias parameter of the model\n",
        "    Returns:\n",
        "      grad_w (array_like, shape (n,)): gradients of the cost function with respect to the weight parameters\n",
        "      grad_b (float)                 : gradient of the cost function with respect to the bias parameter\n",
        "    \"\"\"\n",
        "    m, n = X.shape\n",
        "    assert len(y) == m, \"Number of feature observations and number of target observations do not match\"\n",
        "    assert len(w) == n, \"Number of features and number of weight parameters do not match\"\n",
        "    y_pred = logistic_function(np.dot(X, w) + b)\n",
        "    grad_w = (1/m)* X.T.dot(y_pred - y)\n",
        "    grad_b = (1/m)* np.sum(y_pred - y)\n",
        "    return grad_w, grad_b"
      ],
      "metadata": {
        "id": "qoCcXjENM9E-"
      },
      "execution_count": 64,
      "outputs": []
    },
    {
      "cell_type": "code",
      "source": [
        "# Gradient descent algorithm for logistic regression\n",
        "def gradient_descent(X, y, w, b, alpha, n_iter, show_cost = True, show_params = False):\n",
        "    \"\"\"\n",
        "    Implements batch gradient descent algorithm to learn and update model parameters\n",
        "    with prespecified number of interations and learning rate\n",
        "    Args:\n",
        "      X (ndarray, shape (m,n))  : data on features, m observations with n features\n",
        "      y (array_like, shape (m,)): true values of target (0 or 1)\n",
        "      w (array_like, shape (n,)): initial value of weight parameters\n",
        "      b (scalar)                : initial value of bias parameter\n",
        "      cost_func                 : function to compute cost\n",
        "      grad_func                 : function to compute gradients of cost with respect to model parameters\n",
        "      alpha (float)             : learning rate\n",
        "      n_iter (int)              : number of iterations\n",
        "    Returns:\n",
        "      w (array_like, shape (n,)): updated values of weight parameters\n",
        "      b (scalar)                : updated value of bias parameter\n",
        "    \"\"\"\n",
        "    from tqdm.contrib import itertools\n",
        "    import math\n",
        "    import tqdm\n",
        "    from time import sleep\n",
        "    m, n = X.shape\n",
        "    assert len(y) == m, \"Number of feature observations and number of target observations do not match\"\n",
        "    assert len(w) == n, \"Number of features and number of weight parameters do not match\"\n",
        "    cost_history, params_history = [], []\n",
        "    for i, j in itertools.product(range(n_iter), range(1)):\n",
        "        grad_w, grad_b = compute_gradient(X, y, w, b)\n",
        "        w += -alpha * grad_w\n",
        "        b += -alpha * grad_b\n",
        "        cost =  costfunction_logreg(X, y, w, b)\n",
        "        cost_history.append(cost)\n",
        "        params_history.append([w, b])\n",
        "\n",
        "\n",
        "    return w, b, cost_history, params_history\n"
      ],
      "metadata": {
        "id": "bxNK8fcBNCug"
      },
      "execution_count": 65,
      "outputs": []
    },
    {
      "cell_type": "markdown",
      "source": [
        "###Scaling the features"
      ],
      "metadata": {
        "id": "mMVNNfY_NHnO"
      }
    },
    {
      "cell_type": "code",
      "source": [
        "from sklearn.preprocessing import StandardScaler\n",
        "\n",
        "# Scale the features\n",
        "scaler = StandardScaler()\n",
        "x_train_scaled = scaler.fit_transform(x_train)\n",
        "x_test_scaled = scaler.transform(x_test)"
      ],
      "metadata": {
        "id": "7xkJ5vrzNF_-"
      },
      "execution_count": 66,
      "outputs": []
    },
    {
      "cell_type": "code",
      "source": [
        "# Initialize parameters\n",
        "n_features = x_train_scaled.shape[1]\n",
        "w = np.zeros(n_features)  # Initialize weights as zeros\n",
        "b = 0  # Initialize bias as 0"
      ],
      "metadata": {
        "id": "GPbu5wr9NJSc"
      },
      "execution_count": 67,
      "outputs": []
    },
    {
      "cell_type": "code",
      "source": [
        "# Set hyperparameters\n",
        "learning_rate = 0.01\n",
        "num_iterations = 1000\n",
        "\n",
        "# Run gradient descent\n",
        "w_optimized, b_optimized, cost_history, params_history = gradient_descent(\n",
        "    x_train_scaled, y_train, w, b, learning_rate, num_iterations\n",
        ")\n",
        "\n",
        "# Print final parameters\n",
        "print(\"Optimized weights (w):\", w_optimized)\n",
        "print(\"Optimized bias (b):\", b_optimized)"
      ],
      "metadata": {
        "colab": {
          "base_uri": "https://localhost:8080/",
          "height": 101,
          "referenced_widgets": [
            "ddcec6420ce345a0b3b05f00776b3955",
            "7c922670e65749dab09348ea3cfbc816",
            "c4b5133dadd94333addaec80b0f61fcd",
            "c6ecfce8dbc347b1bda3eba37579415b",
            "1ee807dac70c4dd1ac55cf1619512b7a",
            "8279d4ffdb764563a89c707d33057e25",
            "9a5d5eef7b9240aab5de169a0e143105",
            "137c1b5955454efb995d1ffbf728ddc8",
            "4cc83ec2fcad48168c36f6b13a986090",
            "0a7feb7582844a32ae14611bee71d235",
            "e7755e4a848046be9ae1c7d9c28c1ba4"
          ]
        },
        "id": "Z-IMUGI-NXUW",
        "outputId": "fddd7524-04ef-4586-8775-ebbe36a5a3cf"
      },
      "execution_count": 68,
      "outputs": [
        {
          "output_type": "display_data",
          "data": {
            "text/plain": [
              "  0%|          | 0/1000 [00:00<?, ?it/s]"
            ],
            "application/vnd.jupyter.widget-view+json": {
              "version_major": 2,
              "version_minor": 0,
              "model_id": "ddcec6420ce345a0b3b05f00776b3955"
            }
          },
          "metadata": {}
        },
        {
          "output_type": "stream",
          "name": "stdout",
          "text": [
            "Optimized weights (w): [0.00604981 0.35548931 0.3143345  0.93675848 0.86163993 0.89382417\n",
            " 0.89372855]\n",
            "Optimized bias (b): 0.2226290249727113\n"
          ]
        }
      ]
    },
    {
      "cell_type": "code",
      "source": [
        "# Make predictions on the test set\n",
        "y_pred_prob = logistic_function(np.dot(x_test_scaled, w_optimized) + b_optimized)\n",
        "y_pred = (y_pred_prob >= 0.5).astype(int)  # Convert probabilities to binary predictions\n",
        "# Evaluate the model\n",
        "from sklearn.metrics import accuracy_score, classification_report\n",
        "from sklearn.metrics import confusion_matrix\n",
        "accuracy = accuracy_score(y_test, y_pred)\n",
        "print(\"Accuracy:\", accuracy)\n",
        "print(\"\\nClassification Report:\")\n",
        "print(classification_report(y_test, y_pred))\n",
        "print(f\"Confusion Matrix:\\n{confusion_matrix(y_test, y_pred)}\")\n"
      ],
      "metadata": {
        "colab": {
          "base_uri": "https://localhost:8080/"
        },
        "id": "ucEeUfYnNcqP",
        "outputId": "de7ed6c5-a623-4a61-8751-08f37940f4ea"
      },
      "execution_count": 69,
      "outputs": [
        {
          "output_type": "stream",
          "name": "stdout",
          "text": [
            "Accuracy: 0.9556701030927836\n",
            "\n",
            "Classification Report:\n",
            "              precision    recall  f1-score   support\n",
            "\n",
            "           0       0.94      0.96      0.95       420\n",
            "           1       0.97      0.95      0.96       550\n",
            "\n",
            "    accuracy                           0.96       970\n",
            "   macro avg       0.95      0.96      0.96       970\n",
            "weighted avg       0.96      0.96      0.96       970\n",
            "\n",
            "Confusion Matrix:\n",
            "[[405  15]\n",
            " [ 28 522]]\n"
          ]
        }
      ]
    },
    {
      "cell_type": "code",
      "source": [
        "cm = confusion_matrix(y_test, y_pred)\n",
        "\n",
        "fig, ax = plt.subplots(figsize=(8, 8))\n",
        "ax.imshow(cm)\n",
        "ax.grid(False)\n",
        "ax.xaxis.set(ticks=(0, 1), ticklabels=('Predicted 0s', 'Predicted 1s'))\n",
        "ax.yaxis.set(ticks=(0, 1), ticklabels=('Actual 0s', 'Actual 1s'))\n",
        "ax.set_ylim(1.5, -0.5)\n",
        "for i in range(2):\n",
        "    for j in range(2):\n",
        "        ax.text(j, i, cm[i, j], ha='center', va='center', color='white')\n",
        "plt.show()"
      ],
      "metadata": {
        "colab": {
          "base_uri": "https://localhost:8080/",
          "height": 676
        },
        "id": "pArUgLPsN7Fm",
        "outputId": "70ce6e7c-af64-45ab-a568-ec215e15a61d"
      },
      "execution_count": 70,
      "outputs": [
        {
          "output_type": "display_data",
          "data": {
            "text/plain": [
              "<Figure size 800x800 with 1 Axes>"
            ],
            "image/png": "[encoded data removed]"
          },
          "metadata": {}
        }
      ]
    },
    {
      "cell_type": "markdown",
      "source": [
        "##Build a primary model"
      ],
      "metadata": {
        "id": "BntIh8GiN8-l"
      }
    },
    {
      "cell_type": "code",
      "source": [
        "from sklearn.tree import DecisionTreeClassifier\n",
        "from sklearn.metrics import accuracy_score, confusion_matrix, classification_report\n",
        "from sklearn.model_selection import GridSearchCV\n",
        "from sklearn.feature_selection import RFE\n",
        "\n",
        "# Initialize Decision Tree model\n",
        "tree_model = DecisionTreeClassifier(random_state=42)\n",
        "tree_model.fit(x_train_scaled, y_train)\n",
        "\n",
        "# Make predictions\n",
        "y_pred_tree = tree_model.predict(x_test_scaled)\n",
        "\n",
        "# Model evaluation\n",
        "print(\"Decision Tree Evaluation:\")\n",
        "print(f\"Accuracy: {accuracy_score(y_test, y_pred_tree)}\")\n",
        "print(f\"Confusion Matrix:\\n{confusion_matrix(y_test, y_pred_tree)}\")\n",
        "print(f\"Classification Report:\\n{classification_report(y_test, y_pred_tree)}\")\n",
        "from sklearn.metrics import mean_squared_error, r2_score, accuracy_score, confusion_matrix, classification_report"
      ],
      "metadata": {
        "colab": {
          "base_uri": "https://localhost:8080/"
        },
        "id": "L2yZ5kDJOA-n",
        "outputId": "078e8419-c6d9-46a0-ecff-ebb3f6426b4c"
      },
      "execution_count": 71,
      "outputs": [
        {
          "output_type": "stream",
          "name": "stdout",
          "text": [
            "Decision Tree Evaluation:\n",
            "Accuracy: 0.9422680412371134\n",
            "Confusion Matrix:\n",
            "[[394  26]\n",
            " [ 30 520]]\n",
            "Classification Report:\n",
            "              precision    recall  f1-score   support\n",
            "\n",
            "           0       0.93      0.94      0.93       420\n",
            "           1       0.95      0.95      0.95       550\n",
            "\n",
            "    accuracy                           0.94       970\n",
            "   macro avg       0.94      0.94      0.94       970\n",
            "weighted avg       0.94      0.94      0.94       970\n",
            "\n"
          ]
        }
      ]
    },
    {
      "cell_type": "code",
      "source": [
        "from sklearn.ensemble import RandomForestClassifier\n",
        "from sklearn.metrics import f1_score\n",
        "\n",
        "rf_classifier = RandomForestClassifier(random_state=42)\n",
        "rf_classifier.fit(x_train_scaled, y_train)\n",
        "y_pred_rf = rf_classifier.predict(x_test_scaled)\n",
        "f1_rf = f1_score(y_test, y_pred_rf, average='weighted')\n",
        "print(f\"Random Forest F1 Score: {f1_rf:.4f}\")\n",
        "print(f\"Confusion Matrix:\\n{confusion_matrix(y_test, y_pred_rf)}\")\n",
        "print(f\"Accuracy: {accuracy_score(y_test, y_pred_rf)}\")\n",
        "print(f\"Classification Report:\\n{classification_report(y_test, y_pred_rf)}\")"
      ],
      "metadata": {
        "id": "DCs4dGIrOCeW",
        "colab": {
          "base_uri": "https://localhost:8080/"
        },
        "outputId": "4523a9ca-a173-40d9-fecd-1541e9424a64"
      },
      "execution_count": 72,
      "outputs": [
        {
          "output_type": "stream",
          "name": "stdout",
          "text": [
            "Random Forest F1 Score: 0.9557\n",
            "Confusion Matrix:\n",
            "[[400  20]\n",
            " [ 23 527]]\n",
            "Accuracy: 0.9556701030927836\n",
            "Classification Report:\n",
            "              precision    recall  f1-score   support\n",
            "\n",
            "           0       0.95      0.95      0.95       420\n",
            "           1       0.96      0.96      0.96       550\n",
            "\n",
            "    accuracy                           0.96       970\n",
            "   macro avg       0.95      0.96      0.95       970\n",
            "weighted avg       0.96      0.96      0.96       970\n",
            "\n"
          ]
        }
      ]
    },
    {
      "cell_type": "code",
      "source": [
        "from sklearn.model_selection import GridSearchCV\n",
        "\n",
        "tree_params = {\n",
        "    \"criterion\": [\"gini\", \"entropy\"],\n",
        "    \"max_depth\": [3, 5, 10, None],\n",
        "    \"min_samples_split\": [2, 5, 10],\n",
        "    \"min_samples_leaf\": [1, 2, 4]\n",
        "}\n",
        "grid_tree = GridSearchCV(DecisionTreeClassifier(random_state=42), tree_params, cv=5, scoring=\"accuracy\")\n",
        "grid_tree.fit(x_train_scaled, y_train)\n",
        "\n",
        "# Best hyperparameters for Decision Tree\n",
        "print(\"\\nBest Parameters for Decision Tree:\")\n",
        "print(grid_tree.best_params_)\n",
        "\n",
        "# Hyperparameter tuning for Random Forest\n",
        "rf_params = {\n",
        "    \"n_estimators\": [50, 100, 150],\n",
        "    \"max_depth\": [None, 10, 20],\n",
        "    \"min_samples_split\": [2, 5, 10]\n",
        "}\n",
        "grid_rf = GridSearchCV(RandomForestClassifier(random_state=42), rf_params, cv=5, scoring=\"accuracy\")\n",
        "grid_rf.fit(x_train_scaled, y_train)\n",
        "\n",
        "# Best hyperparameters for Random Forest\n",
        "print(\"\\nBest Parameters for Random Forest:\")\n",
        "print(grid_rf.best_params_)\n"
      ],
      "metadata": {
        "id": "ZpxSck--OIL4",
        "colab": {
          "base_uri": "https://localhost:8080/"
        },
        "outputId": "dcfaac53-3e3b-4c36-ab2a-eef3a72d78ea"
      },
      "execution_count": 73,
      "outputs": [
        {
          "output_type": "stream",
          "name": "stdout",
          "text": [
            "\n",
            "Best Parameters for Decision Tree:\n",
            "{'criterion': 'gini', 'max_depth': 10, 'min_samples_leaf': 1, 'min_samples_split': 10}\n",
            "\n",
            "Best Parameters for Random Forest:\n",
            "{'max_depth': None, 'min_samples_split': 10, 'n_estimators': 50}\n"
          ]
        }
      ]
    },
    {
      "cell_type": "code",
      "source": [
        "from sklearn.feature_selection import RFE\n",
        "\n",
        "tree_clf = DecisionTreeClassifier(random_state=42)\n",
        "rfe = RFE(estimator=tree_clf, n_features_to_select=6)\n",
        "rfe.fit(x_train_scaled, y_train)\n",
        "\n",
        "selected_features_tree = X.columns[rfe.support_]\n",
        "print(\"Selected Features for Decision Tree:\", selected_features_tree)\n",
        "print(f\"Selected Features Mask: {rfe.support_}\")\n",
        "print(f\"Feature Ranking: {rfe.ranking_}\")"
      ],
      "metadata": {
        "colab": {
          "base_uri": "https://localhost:8080/"
        },
        "id": "Ko1vZ8uPGWTn",
        "outputId": "8089d05e-e9c2-4a83-b3cb-cd4e1d9cf88f"
      },
      "execution_count": 74,
      "outputs": [
        {
          "output_type": "stream",
          "name": "stdout",
          "text": [
            "Selected Features for Decision Tree: Index(['forehead_width_cm', 'forehead_height_cm', 'nose_wide', 'nose_long',\n",
            "       'lips_thin', 'distance_nose_to_lip_long'],\n",
            "      dtype='object')\n",
            "Selected Features Mask: [False  True  True  True  True  True  True]\n",
            "Feature Ranking: [2 1 1 1 1 1 1]\n"
          ]
        }
      ]
    },
    {
      "cell_type": "code",
      "source": [
        "from sklearn.ensemble import RandomForestClassifier\n",
        "\n",
        "# Initialize RandomForestClassifier\n",
        "rf = RandomForestClassifier(n_estimators=100, random_state=42)\n",
        "rf.fit(x_train_scaled, y_train)  # Train the model\n",
        "\n",
        "# Get feature importance scores\n",
        "feature_importances = pd.Series(rf.feature_importances_, index=X.columns)\n",
        "\n",
        "# Sort features by importance\n",
        "feature_importances = feature_importances.sort_values(ascending=False)\n",
        "print(\"Feature Importances:\\n\", feature_importances)\n",
        "\n",
        "#Selecting top 6 features\n",
        "top_features = feature_importances[:6].index\n",
        "print(\"Selected Features:\", top_features)\n",
        "\n"
      ],
      "metadata": {
        "colab": {
          "base_uri": "https://localhost:8080/"
        },
        "id": "uWaglCu4NFJd",
        "outputId": "15b829d1-0cf7-4b68-ad21-f8870beaad92"
      },
      "execution_count": 75,
      "outputs": [
        {
          "output_type": "stream",
          "name": "stdout",
          "text": [
            "Feature Importances:\n",
            " nose_wide                    0.215439\n",
            "distance_nose_to_lip_long    0.206166\n",
            "lips_thin                    0.196386\n",
            "nose_long                    0.173289\n",
            "forehead_width_cm            0.113578\n",
            "forehead_height_cm           0.090917\n",
            "long_hair                    0.004227\n",
            "dtype: float64\n",
            "Selected Features: Index(['nose_wide', 'distance_nose_to_lip_long', 'lips_thin', 'nose_long',\n",
            "       'forehead_width_cm', 'forehead_height_cm'],\n",
            "      dtype='object')\n"
          ]
        }
      ]
    },
    {
      "cell_type": "code",
      "source": [
        "from sklearn.ensemble import RandomForestClassifier\n",
        "from sklearn.metrics import accuracy_score, confusion_matrix, classification_report, f1_score\n",
        "\n",
        "x_train_scaled_df = pd.DataFrame(x_train_scaled, columns=X.columns)\n",
        "x_test_scaled_df = pd.DataFrame(x_test_scaled, columns=X.columns)\n",
        "\n",
        "# Select the important features from Task 5\n",
        "\n",
        "selected_features_rf = ['nose_wide', 'distance_nose_to_lip_long', 'lips_thin', 'nose_long',\n",
        "       'forehead_width_cm', 'forehead_height_cm']\n",
        "\n",
        "# Subset the dataset with selected features\n",
        "x_train_rf = x_train_scaled_df[selected_features_rf]\n",
        "x_test_rf = x_test_scaled_df[selected_features_rf]\n",
        "\n",
        "# Rebuild Random Forest model with optimal hyperparameters\n",
        "rf = RandomForestClassifier(n_estimators=50, max_depth=10, min_samples_split=5, random_state=42)\n",
        "rf.fit(x_train_rf, y_train)\n",
        "y_pred_rf = rf.predict(x_test_rf)\n",
        "\n",
        "# Evaluate Random Forest\n",
        "f1_rf = f1_score(y_test, y_pred_rf, average='weighted')\n",
        "print(\"\\nRandom Forest Evaluation:\")\n",
        "print(f\"Random Forest F1 Score: {f1_rf:.4f}\")\n",
        "print(f\"Confusion Matrix:\\n{confusion_matrix(y_test, y_pred_rf)}\")\n",
        "print(f\"Accuracy: {accuracy_score(y_test, y_pred_rf)}\")\n",
        "print(f\"Classification Report:\\n{classification_report(y_test, y_pred_rf)}\")\n"
      ],
      "metadata": {
        "colab": {
          "base_uri": "https://localhost:8080/"
        },
        "id": "w3JZ8XTXNHMh",
        "outputId": "9d79751f-a482-4c90-f69e-8894be104b16"
      },
      "execution_count": 79,
      "outputs": [
        {
          "output_type": "stream",
          "name": "stdout",
          "text": [
            "\n",
            "Random Forest Evaluation:\n",
            "Random Forest F1 Score: 0.9567\n",
            "Confusion Matrix:\n",
            "[[402  18]\n",
            " [ 24 526]]\n",
            "Accuracy: 0.9567010309278351\n",
            "Classification Report:\n",
            "              precision    recall  f1-score   support\n",
            "\n",
            "           0       0.94      0.96      0.95       420\n",
            "           1       0.97      0.96      0.96       550\n",
            "\n",
            "    accuracy                           0.96       970\n",
            "   macro avg       0.96      0.96      0.96       970\n",
            "weighted avg       0.96      0.96      0.96       970\n",
            "\n"
          ]
        }
      ]
    }
  ]
}