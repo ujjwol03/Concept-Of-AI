{
  "nbformat": 4,
  "nbformat_minor": 0,
  "metadata": {
    "colab": {
      "provenance": []
    },
    "kernelspec": {
      "name": "python3",
      "display_name": "Python 3"
    },
    "language_info": {
      "name": "python"
    }
  },
  "cells": [
    {
      "cell_type": "code",
      "execution_count": 18,
      "metadata": {
        "id": "g_u4TM-Fanf3"
      },
      "outputs": [],
      "source": [
        "import pandas as pd\n",
        "import numpy as np\n",
        "import matplotlib.pyplot as plt\n",
        "import seaborn as sns\n",
        "from sklearn.model_selection import train_test_split, GridSearchCV, cross_val_score\n",
        "from sklearn.preprocessing import StandardScaler\n",
        "from sklearn.tree import DecisionTreeRegressor\n",
        "from sklearn.ensemble import RandomForestRegressor\n",
        "from sklearn.metrics import mean_squared_error, mean_absolute_error, r2_score\n",
        "from sklearn.compose import ColumnTransformer"
      ]
    },
    {
      "cell_type": "code",
      "source": [
        "from google.colab import drive\n",
        "drive.mount('/content/drive')"
      ],
      "metadata": {
        "colab": {
          "base_uri": "https://localhost:8080/"
        },
        "id": "OYVWjnYeeuhW",
        "outputId": "de32728a-2a81-4253-fdf4-0f8842411465"
      },
      "execution_count": 19,
      "outputs": [
        {
          "output_type": "stream",
          "name": "stdout",
          "text": [
            "Drive already mounted at /content/drive; to attempt to forcibly remount, call drive.mount(\"/content/drive\", force_remount=True).\n"
          ]
        }
      ]
    },
    {
      "cell_type": "code",
      "source": [
        "df= pd.read_csv(\"/content/drive/MyDrive/Final Assessment 2/smoking_health_data_final.csv\")\n",
        "df.head()\n"
      ],
      "metadata": {
        "id": "mNHpfaEWbJHS",
        "colab": {
          "base_uri": "https://localhost:8080/",
          "height": 206
        },
        "outputId": "97b1fe2a-a386-4abf-e7f9-5a9df938eef0"
      },
      "execution_count": 20,
      "outputs": [
        {
          "output_type": "execute_result",
          "data": {
            "text/plain": [
              "   age   sex current_smoker  heart_rate blood_pressure  cigs_per_day   chol\n",
              "0   54  male            yes          95         110/72           NaN  219.0\n",
              "1   45  male            yes          64         121/72           NaN  248.0\n",
              "2   58  male            yes          81       127.5/76           NaN  235.0\n",
              "3   42  male            yes          90       122.5/80           NaN  225.0\n",
              "4   42  male            yes          62         119/80           NaN  226.0"
            ],
            "text/html": [
              "\n",
              "  <div id=\"df-249f2881-3593-4d80-95d2-d8600970e223\" class=\"colab-df-container\">\n",
              "    <div>\n",
              "<style scoped>\n",
              "    .dataframe tbody tr th:only-of-type {\n",
              "        vertical-align: middle;\n",
              "    }\n",
              "\n",
              "    .dataframe tbody tr th {\n",
              "        vertical-align: top;\n",
              "    }\n",
              "\n",
              "    .dataframe thead th {\n",
              "        text-align: right;\n",
              "    }\n",
              "</style>\n",
              "<table border=\"1\" class=\"dataframe\">\n",
              "  <thead>\n",
              "    <tr style=\"text-align: right;\">\n",
              "      <th></th>\n",
              "      <th>age</th>\n",
              "      <th>sex</th>\n",
              "      <th>current_smoker</th>\n",
              "      <th>heart_rate</th>\n",
              "      <th>blood_pressure</th>\n",
              "      <th>cigs_per_day</th>\n",
              "      <th>chol</th>\n",
              "    </tr>\n",
              "  </thead>\n",
              "  <tbody>\n",
              "    <tr>\n",
              "      <th>0</th>\n",
              "      <td>54</td>\n",
              "      <td>male</td>\n",
              "      <td>yes</td>\n",
              "      <td>95</td>\n",
              "      <td>110/72</td>\n",
              "      <td>NaN</td>\n",
              "      <td>219.0</td>\n",
              "    </tr>\n",
              "    <tr>\n",
              "      <th>1</th>\n",
              "      <td>45</td>\n",
              "      <td>male</td>\n",
              "      <td>yes</td>\n",
              "      <td>64</td>\n",
              "      <td>121/72</td>\n",
              "      <td>NaN</td>\n",
              "      <td>248.0</td>\n",
              "    </tr>\n",
              "    <tr>\n",
              "      <th>2</th>\n",
              "      <td>58</td>\n",
              "      <td>male</td>\n",
              "      <td>yes</td>\n",
              "      <td>81</td>\n",
              "      <td>127.5/76</td>\n",
              "      <td>NaN</td>\n",
              "      <td>235.0</td>\n",
              "    </tr>\n",
              "    <tr>\n",
              "      <th>3</th>\n",
              "      <td>42</td>\n",
              "      <td>male</td>\n",
              "      <td>yes</td>\n",
              "      <td>90</td>\n",
              "      <td>122.5/80</td>\n",
              "      <td>NaN</td>\n",
              "      <td>225.0</td>\n",
              "    </tr>\n",
              "    <tr>\n",
              "      <th>4</th>\n",
              "      <td>42</td>\n",
              "      <td>male</td>\n",
              "      <td>yes</td>\n",
              "      <td>62</td>\n",
              "      <td>119/80</td>\n",
              "      <td>NaN</td>\n",
              "      <td>226.0</td>\n",
              "    </tr>\n",
              "  </tbody>\n",
              "</table>\n",
              "</div>\n",
              "    <div class=\"colab-df-buttons\">\n",
              "\n",
              "  <div class=\"colab-df-container\">\n",
              "    <button class=\"colab-df-convert\" onclick=\"convertToInteractive('df-249f2881-3593-4d80-95d2-d8600970e223')\"\n",
              "            title=\"Convert this dataframe to an interactive table.\"\n",
              "            style=\"display:none;\">\n",
              "\n",
              "  <svg xmlns=\"http://www.w3.org/2000/svg\" height=\"24px\" viewBox=\"0 -960 960 960\">\n",
              "    <path d=\"M120-120v-720h720v720H120Zm60-500h600v-160H180v160Zm220 220h160v-160H400v160Zm0 220h160v-160H400v160ZM180-400h160v-160H180v160Zm440 0h160v-160H620v160ZM180-180h160v-160H180v160Zm440 0h160v-160H620v160Z\"/>\n",
              "  </svg>\n",
              "    </button>\n",
              "\n",
              "  <style>\n",
              "    .colab-df-container {\n",
              "      display:flex;\n",
              "      gap: 12px;\n",
              "    }\n",
              "\n",
              "    .colab-df-convert {\n",
              "      background-color: #E8F0FE;\n",
              "      border: none;\n",
              "      border-radius: 50%;\n",
              "      cursor: pointer;\n",
              "      display: none;\n",
              "      fill: #1967D2;\n",
              "      height: 32px;\n",
              "      padding: 0 0 0 0;\n",
              "      width: 32px;\n",
              "    }\n",
              "\n",
              "    .colab-df-convert:hover {\n",
              "      background-color: #E2EBFA;\n",
              "      box-shadow: 0px 1px 2px rgba(60, 64, 67, 0.3), 0px 1px 3px 1px rgba(60, 64, 67, 0.15);\n",
              "      fill: #174EA6;\n",
              "    }\n",
              "\n",
              "    .colab-df-buttons div {\n",
              "      margin-bottom: 4px;\n",
              "    }\n",
              "\n",
              "    [theme=dark] .colab-df-convert {\n",
              "      background-color: #3B4455;\n",
              "      fill: #D2E3FC;\n",
              "    }\n",
              "\n",
              "    [theme=dark] .colab-df-convert:hover {\n",
              "      background-color: #434B5C;\n",
              "      box-shadow: 0px 1px 3px 1px rgba(0, 0, 0, 0.15);\n",
              "      filter: drop-shadow(0px 1px 2px rgba(0, 0, 0, 0.3));\n",
              "      fill: #FFFFFF;\n",
              "    }\n",
              "  </style>\n",
              "\n",
              "    <script>\n",
              "      const buttonEl =\n",
              "        document.querySelector('#df-249f2881-3593-4d80-95d2-d8600970e223 button.colab-df-convert');\n",
              "      buttonEl.style.display =\n",
              "        google.colab.kernel.accessAllowed ? 'block' : 'none';\n",
              "\n",
              "      async function convertToInteractive(key) {\n",
              "        const element = document.querySelector('#df-249f2881-3593-4d80-95d2-d8600970e223');\n",
              "        const dataTable =\n",
              "          await google.colab.kernel.invokeFunction('convertToInteractive',\n",
              "                                                    [key], {});\n",
              "        if (!dataTable) return;\n",
              "\n",
              "        const docLinkHtml = 'Like what you see? Visit the ' +\n",
              "          '<a target=\"_blank\" href=https://colab.research.google.com/notebooks/data_table.ipynb>data table notebook</a>'\n",
              "          + ' to learn more about interactive tables.';\n",
              "        element.innerHTML = '';\n",
              "        dataTable['output_type'] = 'display_data';\n",
              "        await google.colab.output.renderOutput(dataTable, element);\n",
              "        const docLink = document.createElement('div');\n",
              "        docLink.innerHTML = docLinkHtml;\n",
              "        element.appendChild(docLink);\n",
              "      }\n",
              "    </script>\n",
              "  </div>\n",
              "\n",
              "\n",
              "<div id=\"df-aee0beeb-949f-4f01-ac80-8a3791b4f514\">\n",
              "  <button class=\"colab-df-quickchart\" onclick=\"quickchart('df-aee0beeb-949f-4f01-ac80-8a3791b4f514')\"\n",
              "            title=\"Suggest charts\"\n",
              "            style=\"display:none;\">\n",
              "\n",
              "<svg xmlns=\"http://www.w3.org/2000/svg\" height=\"24px\"viewBox=\"0 0 24 24\"\n",
              "     width=\"24px\">\n",
              "    <g>\n",
              "        <path d=\"M19 3H5c-1.1 0-2 .9-2 2v14c0 1.1.9 2 2 2h14c1.1 0 2-.9 2-2V5c0-1.1-.9-2-2-2zM9 17H7v-7h2v7zm4 0h-2V7h2v10zm4 0h-2v-4h2v4z\"/>\n",
              "    </g>\n",
              "</svg>\n",
              "  </button>\n",
              "\n",
              "<style>\n",
              "  .colab-df-quickchart {\n",
              "      --bg-color: #E8F0FE;\n",
              "      --fill-color: #1967D2;\n",
              "      --hover-bg-color: #E2EBFA;\n",
              "      --hover-fill-color: #174EA6;\n",
              "      --disabled-fill-color: #AAA;\n",
              "      --disabled-bg-color: #DDD;\n",
              "  }\n",
              "\n",
              "  [theme=dark] .colab-df-quickchart {\n",
              "      --bg-color: #3B4455;\n",
              "      --fill-color: #D2E3FC;\n",
              "      --hover-bg-color: #434B5C;\n",
              "      --hover-fill-color: #FFFFFF;\n",
              "      --disabled-bg-color: #3B4455;\n",
              "      --disabled-fill-color: #666;\n",
              "  }\n",
              "\n",
              "  .colab-df-quickchart {\n",
              "    background-color: var(--bg-color);\n",
              "    border: none;\n",
              "    border-radius: 50%;\n",
              "    cursor: pointer;\n",
              "    display: none;\n",
              "    fill: var(--fill-color);\n",
              "    height: 32px;\n",
              "    padding: 0;\n",
              "    width: 32px;\n",
              "  }\n",
              "\n",
              "  .colab-df-quickchart:hover {\n",
              "    background-color: var(--hover-bg-color);\n",
              "    box-shadow: 0 1px 2px rgba(60, 64, 67, 0.3), 0 1px 3px 1px rgba(60, 64, 67, 0.15);\n",
              "    fill: var(--button-hover-fill-color);\n",
              "  }\n",
              "\n",
              "  .colab-df-quickchart-complete:disabled,\n",
              "  .colab-df-quickchart-complete:disabled:hover {\n",
              "    background-color: var(--disabled-bg-color);\n",
              "    fill: var(--disabled-fill-color);\n",
              "    box-shadow: none;\n",
              "  }\n",
              "\n",
              "  .colab-df-spinner {\n",
              "    border: 2px solid var(--fill-color);\n",
              "    border-color: transparent;\n",
              "    border-bottom-color: var(--fill-color);\n",
              "    animation:\n",
              "      spin 1s steps(1) infinite;\n",
              "  }\n",
              "\n",
              "  @keyframes spin {\n",
              "    0% {\n",
              "      border-color: transparent;\n",
              "      border-bottom-color: var(--fill-color);\n",
              "      border-left-color: var(--fill-color);\n",
              "    }\n",
              "    20% {\n",
              "      border-color: transparent;\n",
              "      border-left-color: var(--fill-color);\n",
              "      border-top-color: var(--fill-color);\n",
              "    }\n",
              "    30% {\n",
              "      border-color: transparent;\n",
              "      border-left-color: var(--fill-color);\n",
              "      border-top-color: var(--fill-color);\n",
              "      border-right-color: var(--fill-color);\n",
              "    }\n",
              "    40% {\n",
              "      border-color: transparent;\n",
              "      border-right-color: var(--fill-color);\n",
              "      border-top-color: var(--fill-color);\n",
              "    }\n",
              "    60% {\n",
              "      border-color: transparent;\n",
              "      border-right-color: var(--fill-color);\n",
              "    }\n",
              "    80% {\n",
              "      border-color: transparent;\n",
              "      border-right-color: var(--fill-color);\n",
              "      border-bottom-color: var(--fill-color);\n",
              "    }\n",
              "    90% {\n",
              "      border-color: transparent;\n",
              "      border-bottom-color: var(--fill-color);\n",
              "    }\n",
              "  }\n",
              "</style>\n",
              "\n",
              "  <script>\n",
              "    async function quickchart(key) {\n",
              "      const quickchartButtonEl =\n",
              "        document.querySelector('#' + key + ' button');\n",
              "      quickchartButtonEl.disabled = true;  // To prevent multiple clicks.\n",
              "      quickchartButtonEl.classList.add('colab-df-spinner');\n",
              "      try {\n",
              "        const charts = await google.colab.kernel.invokeFunction(\n",
              "            'suggestCharts', [key], {});\n",
              "      } catch (error) {\n",
              "        console.error('Error during call to suggestCharts:', error);\n",
              "      }\n",
              "      quickchartButtonEl.classList.remove('colab-df-spinner');\n",
              "      quickchartButtonEl.classList.add('colab-df-quickchart-complete');\n",
              "    }\n",
              "    (() => {\n",
              "      let quickchartButtonEl =\n",
              "        document.querySelector('#df-aee0beeb-949f-4f01-ac80-8a3791b4f514 button');\n",
              "      quickchartButtonEl.style.display =\n",
              "        google.colab.kernel.accessAllowed ? 'block' : 'none';\n",
              "    })();\n",
              "  </script>\n",
              "</div>\n",
              "\n",
              "    </div>\n",
              "  </div>\n"
            ],
            "application/vnd.google.colaboratory.intrinsic+json": {
              "type": "dataframe",
              "variable_name": "df",
              "summary": "{\n  \"name\": \"df\",\n  \"rows\": 3900,\n  \"fields\": [\n    {\n      \"column\": \"age\",\n      \"properties\": {\n        \"dtype\": \"number\",\n        \"std\": 8,\n        \"min\": 32,\n        \"max\": 70,\n        \"num_unique_values\": 39,\n        \"samples\": [\n          66,\n          69,\n          57\n        ],\n        \"semantic_type\": \"\",\n        \"description\": \"\"\n      }\n    },\n    {\n      \"column\": \"sex\",\n      \"properties\": {\n        \"dtype\": \"category\",\n        \"num_unique_values\": 2,\n        \"samples\": [\n          \"female\",\n          \"male\"\n        ],\n        \"semantic_type\": \"\",\n        \"description\": \"\"\n      }\n    },\n    {\n      \"column\": \"current_smoker\",\n      \"properties\": {\n        \"dtype\": \"category\",\n        \"num_unique_values\": 2,\n        \"samples\": [\n          \"no\",\n          \"yes\"\n        ],\n        \"semantic_type\": \"\",\n        \"description\": \"\"\n      }\n    },\n    {\n      \"column\": \"heart_rate\",\n      \"properties\": {\n        \"dtype\": \"number\",\n        \"std\": 12,\n        \"min\": 44,\n        \"max\": 143,\n        \"num_unique_values\": 73,\n        \"samples\": [\n          62,\n          45\n        ],\n        \"semantic_type\": \"\",\n        \"description\": \"\"\n      }\n    },\n    {\n      \"column\": \"blood_pressure\",\n      \"properties\": {\n        \"dtype\": \"string\",\n        \"num_unique_values\": 2317,\n        \"samples\": [\n          \"157/86\",\n          \"134.5/89\"\n        ],\n        \"semantic_type\": \"\",\n        \"description\": \"\"\n      }\n    },\n    {\n      \"column\": \"cigs_per_day\",\n      \"properties\": {\n        \"dtype\": \"number\",\n        \"std\": 12.037998581628393,\n        \"min\": 0.0,\n        \"max\": 70.0,\n        \"num_unique_values\": 33,\n        \"samples\": [\n          60.0,\n          15.0\n        ],\n        \"semantic_type\": \"\",\n        \"description\": \"\"\n      }\n    },\n    {\n      \"column\": \"chol\",\n      \"properties\": {\n        \"dtype\": \"number\",\n        \"std\": 44.37536507637463,\n        \"min\": 113.0,\n        \"max\": 696.0,\n        \"num_unique_values\": 243,\n        \"samples\": [\n          195.0,\n          222.0\n        ],\n        \"semantic_type\": \"\",\n        \"description\": \"\"\n      }\n    }\n  ]\n}"
            }
          },
          "metadata": {},
          "execution_count": 20
        }
      ]
    },
    {
      "cell_type": "code",
      "source": [
        "# Dataset description\n",
        "print(\"\\nDataset Information:\")\n",
        "print(df.info())\n",
        "\n",
        "# Summary statistics\n",
        "print(\"\\nSummary Statistics:\")\n",
        "print(df.describe())\n",
        "\n",
        "# List of attributes (columns)\n",
        "columns = df.columns.tolist()\n",
        "print(\"\\nList of Attributes (Columns):\")\n",
        "print(columns)"
      ],
      "metadata": {
        "colab": {
          "base_uri": "https://localhost:8080/"
        },
        "id": "m4hOuPzHRWPV",
        "outputId": "7640b8c0-cbf4-4208-efd6-e5bcb3697223"
      },
      "execution_count": 21,
      "outputs": [
        {
          "output_type": "stream",
          "name": "stdout",
          "text": [
            "\n",
            "Dataset Information:\n",
            "<class 'pandas.core.frame.DataFrame'>\n",
            "RangeIndex: 3900 entries, 0 to 3899\n",
            "Data columns (total 7 columns):\n",
            " #   Column          Non-Null Count  Dtype  \n",
            "---  ------          --------------  -----  \n",
            " 0   age             3900 non-null   int64  \n",
            " 1   sex             3900 non-null   object \n",
            " 2   current_smoker  3900 non-null   object \n",
            " 3   heart_rate      3900 non-null   int64  \n",
            " 4   blood_pressure  3900 non-null   object \n",
            " 5   cigs_per_day    3886 non-null   float64\n",
            " 6   chol            3893 non-null   float64\n",
            "dtypes: float64(2), int64(2), object(3)\n",
            "memory usage: 213.4+ KB\n",
            "None\n",
            "\n",
            "Summary Statistics:\n",
            "               age   heart_rate  cigs_per_day         chol\n",
            "count  3900.000000  3900.000000   3886.000000  3893.000000\n",
            "mean     49.537949    75.688974      9.168554   236.595941\n",
            "std       8.559275    12.015376     12.037999    44.375365\n",
            "min      32.000000    44.000000      0.000000   113.000000\n",
            "25%      42.000000    68.000000      0.000000   206.000000\n",
            "50%      49.000000    75.000000      0.000000   234.000000\n",
            "75%      56.000000    82.000000     20.000000   263.000000\n",
            "max      70.000000   143.000000     70.000000   696.000000\n",
            "\n",
            "List of Attributes (Columns):\n",
            "['age', 'sex', 'current_smoker', 'heart_rate', 'blood_pressure', 'cigs_per_day', 'chol']\n"
          ]
        }
      ]
    },
    {
      "cell_type": "code",
      "source": [
        "if 'sex' in df.columns:\n",
        "\n",
        "  df['sex'] = df['sex'].map({'male': 1, 'female': 0})\n",
        "if 'current_smoker' in df.columns:\n",
        "  df['current_smoker'] = df['current_smoker'].map({'yes': 1, 'no': 0})\n",
        "\n",
        "if 'blood_pressure' in df.columns:\n",
        "    df[['systolic_bp', 'diastolic_bp']] = df['blood_pressure'].str.split('/', expand=True).astype(float)\n",
        "    df.drop(columns=['blood_pressure'], inplace=True)\n",
        "\n",
        "else:\n",
        "    print(\"Column 'blood_pressure' not found in the dataset!\")\n",
        "\n",
        "\n",
        "# Drop the original blood_pressure column\n",
        "if 'blood_pressure' in df.columns:\n",
        "  df.drop(columns=['blood_pressure'], inplace=True)\n",
        "\n",
        "# Fill missing values with median for numeric columns\n",
        "df.fillna(df.median(), inplace=True)\n",
        "print(df.head())\n",
        "print(df.info())\n",
        "df = df.drop(columns=[\"Order_ID\"], errors='ignore')\n",
        "print(\"\\nMissing Values:\")\n",
        "print(df.isnull().sum())"
      ],
      "metadata": {
        "colab": {
          "base_uri": "https://localhost:8080/"
        },
        "id": "6ZRnXnzCRfuq",
        "outputId": "b2355975-90f9-42b7-9916-332c7b6ffa25"
      },
      "execution_count": 22,
      "outputs": [
        {
          "output_type": "stream",
          "name": "stdout",
          "text": [
            "   age  sex  current_smoker  heart_rate  cigs_per_day   chol  systolic_bp  \\\n",
            "0   54    1               1          95           0.0  219.0        110.0   \n",
            "1   45    1               1          64           0.0  248.0        121.0   \n",
            "2   58    1               1          81           0.0  235.0        127.5   \n",
            "3   42    1               1          90           0.0  225.0        122.5   \n",
            "4   42    1               1          62           0.0  226.0        119.0   \n",
            "\n",
            "   diastolic_bp  \n",
            "0          72.0  \n",
            "1          72.0  \n",
            "2          76.0  \n",
            "3          80.0  \n",
            "4          80.0  \n",
            "<class 'pandas.core.frame.DataFrame'>\n",
            "RangeIndex: 3900 entries, 0 to 3899\n",
            "Data columns (total 8 columns):\n",
            " #   Column          Non-Null Count  Dtype  \n",
            "---  ------          --------------  -----  \n",
            " 0   age             3900 non-null   int64  \n",
            " 1   sex             3900 non-null   int64  \n",
            " 2   current_smoker  3900 non-null   int64  \n",
            " 3   heart_rate      3900 non-null   int64  \n",
            " 4   cigs_per_day    3900 non-null   float64\n",
            " 5   chol            3900 non-null   float64\n",
            " 6   systolic_bp     3900 non-null   float64\n",
            " 7   diastolic_bp    3900 non-null   float64\n",
            "dtypes: float64(4), int64(4)\n",
            "memory usage: 243.9 KB\n",
            "None\n",
            "\n",
            "Missing Values:\n",
            "age               0\n",
            "sex               0\n",
            "current_smoker    0\n",
            "heart_rate        0\n",
            "cigs_per_day      0\n",
            "chol              0\n",
            "systolic_bp       0\n",
            "diastolic_bp      0\n",
            "dtype: int64\n"
          ]
        }
      ]
    },
    {
      "cell_type": "markdown",
      "source": [
        "#Exploring data through visualization\n"
      ],
      "metadata": {
        "id": "cWjf6xAqbEJA"
      }
    },
    {
      "cell_type": "markdown",
      "source": [
        "###Age Distribution"
      ],
      "metadata": {
        "id": "UJS9basdbJrA"
      }
    },
    {
      "cell_type": "code",
      "source": [
        "plt.figure(figsize=(8, 5))\n",
        "sns.histplot(df['age'], bins=20, kde=True, color='blue')\n",
        "plt.title(\"Age Distribution\")\n",
        "plt.xlabel(\"Age\")\n",
        "plt.ylabel(\"Frequency\")\n",
        "plt.show()\n"
      ],
      "metadata": {
        "colab": {
          "base_uri": "https://localhost:8080/",
          "height": 487
        },
        "id": "M5x-U6cGbIEf",
        "outputId": "8f877607-5296-4c2e-a7a3-f2d178880303"
      },
      "execution_count": 40,
      "outputs": [
        {
          "output_type": "display_data",
          "data": {
            "text/plain": [
              "<Figure size 800x500 with 1 Axes>"
            ],
            "image/png": "[encoded data removed]"
          },
          "metadata": {}
        }
      ]
    },
    {
      "cell_type": "markdown",
      "source": [
        "###Smoking Status Count"
      ],
      "metadata": {
        "id": "IwNw2G0qbanK"
      }
    },
    {
      "cell_type": "code",
      "source": [
        "plt.figure(figsize=(6, 4))\n",
        "sns.countplot(x=df['current_smoker'], palette=\"coolwarm\")\n",
        "plt.xticks([0, 1], ['Non-Smoker', 'Smoker'])\n",
        "plt.title(\"Smoking Status Count\")\n",
        "plt.xlabel(\"Smoking Status\")\n",
        "plt.ylabel(\"Count\")\n",
        "plt.show()\n"
      ],
      "metadata": {
        "colab": {
          "base_uri": "https://localhost:8080/",
          "height": 497
        },
        "id": "r6EMLZTFbdT6",
        "outputId": "a89a61b7-d9b8-4a66-b376-9ea83ee78ae2"
      },
      "execution_count": 41,
      "outputs": [
        {
          "output_type": "stream",
          "name": "stderr",
          "text": [
            "<ipython-input-41-59c5a9a883af>:2: FutureWarning: \n",
            "\n",
            "Passing `palette` without assigning `hue` is deprecated and will be removed in v0.14.0. Assign the `x` variable to `hue` and set `legend=False` for the same effect.\n",
            "\n",
            "  sns.countplot(x=df['current_smoker'], palette=\"coolwarm\")\n"
          ]
        },
        {
          "output_type": "display_data",
          "data": {
            "text/plain": [
              "<Figure size 600x400 with 1 Axes>"
            ],
            "image/png": "[encoded data removed]"
          },
          "metadata": {}
        }
      ]
    },
    {
      "cell_type": "markdown",
      "source": [
        "###Cholesterol Levels by Smoking Status\n",
        "\n",
        "\n"
      ],
      "metadata": {
        "id": "zBWVs9QPbnve"
      }
    },
    {
      "cell_type": "code",
      "source": [
        "plt.figure(figsize=(8, 5))\n",
        "sns.boxplot(x=df['current_smoker'], y=df['chol'], palette=\"Set2\")\n",
        "plt.xticks([0, 1], ['Non-Smoker', 'Smoker'])\n",
        "plt.title(\"Cholesterol Levels by Smoking Status\")\n",
        "plt.xlabel(\"Smoking Status\")\n",
        "plt.ylabel(\"Cholesterol (mg/dL)\")\n",
        "plt.show()\n"
      ],
      "metadata": {
        "colab": {
          "base_uri": "https://localhost:8080/",
          "height": 574
        },
        "id": "7Rdf7KV2bpvm",
        "outputId": "e974ab19-f978-4d01-9231-af0ac04425fe"
      },
      "execution_count": 42,
      "outputs": [
        {
          "output_type": "stream",
          "name": "stderr",
          "text": [
            "<ipython-input-42-885979ba13d7>:2: FutureWarning: \n",
            "\n",
            "Passing `palette` without assigning `hue` is deprecated and will be removed in v0.14.0. Assign the `x` variable to `hue` and set `legend=False` for the same effect.\n",
            "\n",
            "  sns.boxplot(x=df['current_smoker'], y=df['chol'], palette=\"Set2\")\n"
          ]
        },
        {
          "output_type": "display_data",
          "data": {
            "text/plain": [
              "<Figure size 800x500 with 1 Axes>"
            ],
            "image/png": "[encoded data removed]"
          },
          "metadata": {}
        }
      ]
    },
    {
      "cell_type": "code",
      "source": [
        "def cost_function(X, Y, W):\n",
        "    \"\"\" Parameters:\n",
        "    This function finds the Mean Square Error.\n",
        "    Input parameters:\n",
        "      X: Feature Matrix\n",
        "      Y: Target Matrix\n",
        "      W: Weight Matrix\n",
        "    Output Parameters:\n",
        "      J: accumulated mean square error.\n",
        "    \"\"\"\n",
        "    # Your code here:\n",
        "    m= len(Y)\n",
        "\n",
        "    J= np.sum((X.dot(W) - Y)**2)/(2*m)\n",
        "    return J"
      ],
      "metadata": {
        "id": "Nbi3Al_ZUSPd"
      },
      "execution_count": 24,
      "outputs": []
    },
    {
      "cell_type": "code",
      "source": [
        "\n",
        "def gradient_descent(X, Y, B, alpha, iterations):\n",
        "    cost_history = [0] * iterations\n",
        "    m = len(Y)\n",
        "\n",
        "    for iteration in range(iterations):\n",
        "        # Hypothesis Values\n",
        "        Y_pred = X.dot(W)\n",
        "        # Difference b/w Hypothesis and Actual Y\n",
        "        loss = Y-Y_pred\n",
        "        # Gradient Calculation\n",
        "        dw = - X.T.dot(loss)/m\n",
        "        # Changing Values of B using Gradient\n",
        "        W_update = W - alpha *dw\n",
        "        # New Cost Value\n",
        "        cost = cost_function(X, Y, W_update)\n",
        "        cost_history[iteration] = cost\n",
        "\n",
        "    return W_update, cost_history"
      ],
      "metadata": {
        "id": "da2x4FSeUU-d"
      },
      "execution_count": 25,
      "outputs": []
    },
    {
      "cell_type": "code",
      "source": [
        "\n",
        "x = df.drop(columns=['chol'])\n",
        "# Define the target variable\n",
        "y = df['chol']\n",
        "\n",
        "# Split the dataset into 80% training data and 20% testing data\n",
        "X_train, X_test, Y_train, Y_test = train_test_split(x, y, test_size=0.2, random_state=42)\n",
        "\n",
        "scaler = StandardScaler()\n",
        "X_train = scaler.fit_transform(X_train)\n",
        "X_test = scaler.transform(X_test)\n",
        "\n",
        "# Initialize weights\n",
        "W = np.zeros(X_train.shape[1])\n",
        "\n",
        "alpha = 0.01\n",
        "# Train the model using gradient descent\n",
        "new_weights, cost_history = gradient_descent(X_train, Y_train, W, alpha, 1000)\n",
        "print(new_weights)\n",
        "print(cost_history[-1])\n",
        "\n",
        "# Make predictions on the test set\n",
        "Y_pred = X_test.dot(new_weights)\n",
        "\n",
        "inital_cost = cost_function(x, y, W)\n",
        "print(inital_cost)"
      ],
      "metadata": {
        "colab": {
          "base_uri": "https://localhost:8080/"
        },
        "id": "nqcACUAzV_IE",
        "outputId": "0f38b6a4-afa1-4fcc-a346-8070eff6326a"
      },
      "execution_count": 27,
      "outputs": [
        {
          "output_type": "stream",
          "name": "stdout",
          "text": [
            "[ 0.10902595 -0.02941054 -0.01801102  0.04192838 -0.01153247  0.09311832\n",
            "  0.0685509 ]\n",
            "28947.00877352835\n",
            "28970.290256410255\n"
          ]
        }
      ]
    },
    {
      "cell_type": "code",
      "source": [
        "mse = mean_squared_error(Y_test, Y_pred)\n",
        "print(f\"Mean Squared Error: {mse}\")\n",
        "rse= np.sqrt(mse)\n",
        "print(f\"Root Mean Squared Error: {rse}\")\n",
        "rmse = np.sqrt(mse)\n",
        "print(f\"Root Mean Squared Error (RMSE): {rmse}\")\n"
      ],
      "metadata": {
        "colab": {
          "base_uri": "https://localhost:8080/"
        },
        "id": "3yOKzpZ_WAQU",
        "outputId": "5041b072-37b1-4ce6-e23d-c66a62f5a59b"
      },
      "execution_count": 28,
      "outputs": [
        {
          "output_type": "stream",
          "name": "stdout",
          "text": [
            "Mean Squared Error: 58092.154745869724\n",
            "Root Mean Squared Error: 241.02314151522822\n",
            "Root Mean Squared Error (RMSE): 241.02314151522822\n"
          ]
        }
      ]
    },
    {
      "cell_type": "code",
      "source": [
        "from sklearn.linear_model import LinearRegression\n",
        "\n",
        "X = df.drop(columns=['chol'])\n",
        "y = df['chol']\n",
        "\n",
        "# Train-test split\n",
        "X_train, X_test, y_train, y_test = train_test_split(X, y, test_size=0.2, random_state=42)\n",
        "\n",
        "scaler = StandardScaler()\n",
        "X_train = scaler.fit_transform(X_train)\n",
        "X_test = scaler.transform(X_test)\n"
      ],
      "metadata": {
        "id": "eFVgIwwzWrHf"
      },
      "execution_count": 30,
      "outputs": []
    },
    {
      "cell_type": "code",
      "source": [
        "from sklearn.preprocessing import PolynomialFeatures\n",
        "from sklearn.linear_model import LinearRegression\n",
        "from sklearn.pipeline import make_pipeline\n",
        "from sklearn.metrics import mean_squared_error, r2_score\n",
        "\n",
        "# Example: Assume X_train, X_test, y_train, y_test are your datasets\n",
        "degree = 2  # You can change the degree to test different polynomial levels\n",
        "model = make_pipeline(PolynomialFeatures(degree), LinearRegression())\n",
        "\n",
        "# Train the model\n",
        "model.fit(X_train, y_train)\n",
        "\n",
        "# Predictions\n",
        "y_pred = model.predict(X_test)\n",
        "\n",
        "# Calculate MSE and R²\n",
        "mse = mean_squared_error(y_test, y_pred)\n",
        "r2 = r2_score(y_test, y_pred)\n",
        "\n",
        "print(f\"Mean Squared Error (MSE): {mse:.4f}\")\n",
        "print(f\"R-squared Score (R²): {r2:.4f}\")\n"
      ],
      "metadata": {
        "colab": {
          "base_uri": "https://localhost:8080/"
        },
        "id": "qE1BAhvgWta7",
        "outputId": "3129f51d-a2f5-46f9-a5a3-9ca19d81c57c"
      },
      "execution_count": 31,
      "outputs": [
        {
          "output_type": "stream",
          "name": "stdout",
          "text": [
            "Mean Squared Error (MSE): 1564.8889\n",
            "R-squared Score (R²): 0.1679\n"
          ]
        }
      ]
    },
    {
      "cell_type": "code",
      "source": [
        "dt_reg = DecisionTreeRegressor(random_state=42)\n",
        "rf_reg = RandomForestRegressor(n_estimators=100, random_state=42)\n",
        "\n",
        "# Training models\n",
        "dt_reg.fit(X_train, y_train)\n",
        "rf_reg.fit(X_train, y_train)\n",
        "\n",
        "# Making predictions\n",
        "y_pred_dt = dt_reg.predict(X_test)\n",
        "y_pred_rf = rf_reg.predict(X_test)\n",
        "\n",
        "# Evaluating models\n",
        "def evaluate_model(y_true, y_pred, model_name):\n",
        "    print(f\"{model_name} Performance:\")\n",
        "    print(f\"Mean Squared Error: {mean_squared_error(y_true, y_pred):.4f}\")\n",
        "    print(f\"Mean Absolute Error: {mean_absolute_error(y_true, y_pred):.4f}\")\n",
        "    print(f\"R-squared Score: {r2_score(y_true, y_pred):.4f}\\n\")\n",
        "\n",
        "evaluate_model(y_test, y_pred_dt, \"Decision Tree Regression\")\n",
        "evaluate_model(y_test, y_pred_rf, \"Random Forest\")"
      ],
      "metadata": {
        "colab": {
          "base_uri": "https://localhost:8080/"
        },
        "id": "sF9CopzjW2nH",
        "outputId": "df732e48-6b22-4f04-a97d-1138e754d589"
      },
      "execution_count": 32,
      "outputs": [
        {
          "output_type": "stream",
          "name": "stdout",
          "text": [
            "Decision Tree Regression Performance:\n",
            "Mean Squared Error: 3371.9769\n",
            "Mean Absolute Error: 45.9590\n",
            "R-squared Score: -0.7930\n",
            "\n",
            "Random Forest Performance:\n",
            "Mean Squared Error: 1667.6850\n",
            "Mean Absolute Error: 32.1272\n",
            "R-squared Score: 0.1133\n",
            "\n"
          ]
        }
      ]
    },
    {
      "cell_type": "code",
      "source": [
        "from sklearn.model_selection import GridSearchCV\n",
        "\n",
        "param_grid_rf = {\n",
        "    'n_estimators': [50, 100, 150],\n",
        "    'max_depth': [None, 10, 20],\n",
        "    'min_samples_split': [2, 5, 10]\n",
        "}\n",
        "grid_search = GridSearchCV(RandomForestRegressor(random_state=42), param_grid_rf, cv=5, scoring='r2')\n",
        "grid_search.fit(X_train, y_train)\n",
        "\n",
        "print(\"Best Hyperparameters for Random Forest:\")\n",
        "print(grid_search.best_params_)\n",
        "print(f\"Best R2 Score: {grid_search.best_score_:.4f}\")"
      ],
      "metadata": {
        "colab": {
          "base_uri": "https://localhost:8080/"
        },
        "id": "vrtUw-BZW6gH",
        "outputId": "bbd4f360-88eb-45fc-f994-576bb0f059f8"
      },
      "execution_count": 33,
      "outputs": [
        {
          "output_type": "stream",
          "name": "stdout",
          "text": [
            "Best Hyperparameters for Random Forest:\n",
            "{'max_depth': 10, 'min_samples_split': 10, 'n_estimators': 150}\n",
            "Best R2 Score: 0.0788\n"
          ]
        }
      ]
    },
    {
      "cell_type": "code",
      "source": [
        "param_grid_dt = {\n",
        "    'max_depth': [None, 10, 20],\n",
        "    'min_samples_split': [2, 5, 10],\n",
        "    'min_samples_leaf': [1, 2, 4]\n",
        "}\n",
        "\n",
        "grid_search_dt = GridSearchCV(DecisionTreeRegressor(random_state=42), param_grid_dt, cv=5, scoring='r2')\n",
        "grid_search_dt.fit(X_train, y_train)\n",
        "\n",
        "print(\"Best Hyperparameters for Decision Tree Regressor:\")\n",
        "print(grid_search_dt.best_params_)\n",
        "print(f\"Best R2 Score: {grid_search_dt.best_score_:.4f}\")"
      ],
      "metadata": {
        "id": "b3izPXiYW9Zc",
        "colab": {
          "base_uri": "https://localhost:8080/"
        },
        "outputId": "ec3cd3a1-0cf6-470a-9b15-7d6672484293"
      },
      "execution_count": 34,
      "outputs": [
        {
          "output_type": "stream",
          "name": "stdout",
          "text": [
            "Best Hyperparameters for Decision Tree Regressor:\n",
            "{'max_depth': 10, 'min_samples_leaf': 4, 'min_samples_split': 10}\n",
            "Best R2 Score: -0.1568\n"
          ]
        }
      ]
    },
    {
      "cell_type": "code",
      "source": [
        "from sklearn.feature_selection import SelectFromModel\n",
        "\n",
        "# Initialize models\n",
        "rf_model = RandomForestRegressor()\n",
        "dt_model = DecisionTreeRegressor()\n",
        "\n",
        "# Fit Random Forest Regressor\n",
        "rf_model.fit(X_train, y_train)\n",
        "# Fit Decision Tree Regressor\n",
        "dt_model.fit(X_train, y_train)\n",
        "\n",
        "# SelectFromModel for Random Forest\n",
        "rf_selector = SelectFromModel(rf_model, threshold=\"mean\", max_features=6)\n",
        "X_selected_rf = rf_selector.transform(X_train)\n",
        "\n",
        "# SelectFromModel for Decision Tree\n",
        "dt_selector = SelectFromModel(dt_model, threshold=\"mean\", max_features=6)\n",
        "X_selected_dt = dt_selector.transform(X_train)\n",
        "\n",
        "print(\"Selected features from Random Forest (indices):\", rf_selector.get_support())\n",
        "print(\"Selected features from Decision Tree (indices):\", dt_selector.get_support())\n",
        "\n",
        "# Get the selected feature names\n",
        "selected_rf_features = x.columns[rf_selector.get_support()]\n",
        "selected_dt_features = x.columns[dt_selector.get_support()]\n",
        "\n",
        "print(\"Selected features from Random Forest:\", selected_rf_features)\n",
        "print(\"Selected features from Decision Tree:\", selected_dt_features)"
      ],
      "metadata": {
        "colab": {
          "base_uri": "https://localhost:8080/"
        },
        "id": "GGMVa4g_XAmJ",
        "outputId": "1455fb63-7ef7-4738-9903-6051b42cacee"
      },
      "execution_count": 35,
      "outputs": [
        {
          "output_type": "stream",
          "name": "stdout",
          "text": [
            "Selected features from Random Forest (indices): [ True False False  True False  True  True]\n",
            "Selected features from Decision Tree (indices): [ True False False  True False  True  True]\n",
            "Selected features from Random Forest: Index(['age', 'heart_rate', 'systolic_bp', 'diastolic_bp'], dtype='object')\n",
            "Selected features from Decision Tree: Index(['age', 'heart_rate', 'systolic_bp', 'diastolic_bp'], dtype='object')\n"
          ]
        }
      ]
    },
    {
      "cell_type": "code",
      "source": [
        "# Get feature importances\n",
        "rf_importances = rf_model.feature_importances_\n",
        "dt_importances = dt_model.feature_importances_\n",
        "\n",
        "# Get the names of the selected features\n",
        "selected_rf_features = X.columns[rf_selector.get_support()]\n",
        "selected_dt_features = X.columns[dt_selector.get_support()]\n",
        "\n",
        "# Extract the importance of the selected features\n",
        "rf_selected_importances = rf_importances[rf_selector.get_support()]\n",
        "dt_selected_importances = dt_importances[dt_selector.get_support()]\n",
        "rf_importance_df = pd.DataFrame({\n",
        "    'Feature': selected_rf_features,\n",
        "    'Importance': rf_selected_importances\n",
        "})\n",
        "\n",
        "dt_importance_df = pd.DataFrame({\n",
        "    'Feature': selected_dt_features,\n",
        "    'Importance': dt_selected_importances\n",
        "})\n",
        "\n",
        "# Plot the feature importances for Random Forest\n",
        "plt.figure(figsize=(10, 6))\n",
        "sns.barplot(x='Importance', y='Feature', data=rf_importance_df, palette='Blues_d')\n",
        "plt.title('Feature Importances from Random Forest')\n",
        "plt.show()\n",
        "\n",
        "# Plot the feature importances for Decision Tree\n",
        "plt.figure(figsize=(10, 6))\n",
        "sns.barplot(x='Importance', y='Feature', data=dt_importance_df, palette='Greens_d')\n",
        "plt.title('Feature Importances from Decision Tree')\n",
        "plt.show()"
      ],
      "metadata": {
        "colab": {
          "base_uri": "https://localhost:8080/",
          "height": 1000
        },
        "id": "2qIO89KoXEDu",
        "outputId": "1ca3cb9f-fde8-4968-8972-94fb2443da5a"
      },
      "execution_count": 36,
      "outputs": [
        {
          "output_type": "stream",
          "name": "stderr",
          "text": [
            "<ipython-input-36-f85f5870b513>:24: FutureWarning: \n",
            "\n",
            "Passing `palette` without assigning `hue` is deprecated and will be removed in v0.14.0. Assign the `y` variable to `hue` and set `legend=False` for the same effect.\n",
            "\n",
            "  sns.barplot(x='Importance', y='Feature', data=rf_importance_df, palette='Blues_d')\n"
          ]
        },
        {
          "output_type": "display_data",
          "data": {
            "text/plain": [
              "<Figure size 1000x600 with 1 Axes>"
            ],
            "image/png": "[encoded data removed]"
          },
          "metadata": {}
        },
        {
          "output_type": "stream",
          "name": "stderr",
          "text": [
            "<ipython-input-36-f85f5870b513>:30: FutureWarning: \n",
            "\n",
            "Passing `palette` without assigning `hue` is deprecated and will be removed in v0.14.0. Assign the `y` variable to `hue` and set `legend=False` for the same effect.\n",
            "\n",
            "  sns.barplot(x='Importance', y='Feature', data=dt_importance_df, palette='Greens_d')\n"
          ]
        },
        {
          "output_type": "display_data",
          "data": {
            "text/plain": [
              "<Figure size 1000x600 with 1 Axes>"
            ],
            "image/png": "[encoded data removed]"
          },
          "metadata": {}
        }
      ]
    },
    {
      "cell_type": "code",
      "source": [
        "from sklearn.ensemble import RandomForestRegressor\n",
        "from sklearn.metrics import mean_absolute_error, mean_squared_error, r2_score\n",
        "import matplotlib.pyplot as plt\n",
        "import seaborn as sns\n",
        "\n",
        "# Assuming x_train_scaled_df and x_test_scaled_df are DataFrames with scaled features\n",
        "x_train_scaled_df = pd.DataFrame(X_train, columns=X.columns)\n",
        "x_test_scaled_df = pd.DataFrame(X_test, columns=X.columns)\n",
        "# Select the important features from Task 5\n",
        "selected_features_rf = ['age', 'heart_rate','systolic_bp','diastolic_bp']\n",
        "\n",
        "# Subset the dataset with selected features\n",
        "x_train_rf = x_train_scaled_df[selected_features_rf]\n",
        "x_test_rf = x_test_scaled_df[selected_features_rf]\n",
        "\n",
        "# Rebuild Random Forest Regressor model with optimal hyperparameters\n",
        "rf_regressor = RandomForestRegressor(n_estimators=150, max_depth=10, min_samples_split=2, random_state=42)\n",
        "rf_regressor.fit(x_train_rf, y_train)\n",
        "\n",
        "# Predict with the trained model\n",
        "y_pred_rf = rf_regressor.predict(x_test_rf)\n",
        "\n",
        "# Evaluate Random Forest Regressor\n",
        "mae_rf = mean_absolute_error(y_test, y_pred_rf)\n",
        "mse_rf = mean_squared_error(y_test, y_pred_rf)\n",
        "r2_rf = r2_score(y_test, y_pred_rf)\n",
        "\n",
        "print(\"\\nRandom Forest Regressor Evaluation:\")\n",
        "print(f\"Mean Absolute Error: {mae_rf:.4f}\")\n",
        "print(f\"Mean Squared Error: {mse_rf:.4f}\")\n",
        "print(f\"R^2 Score: {r2_rf:.4f}\")\n",
        "\n",
        "# Feature Importance Plot\n",
        "feature_importances = rf_regressor.feature_importances_\n",
        "importance_df = pd.DataFrame({\n",
        "    'Feature': selected_features_rf,\n",
        "    'Importance': feature_importances\n",
        "})\n",
        "\n",
        "# Sort by feature importance\n",
        "importance_df = importance_df.sort_values(by='Importance', ascending=False)\n",
        "\n",
        "# Plot the feature importances\n",
        "plt.figure(figsize=(10, 6))\n",
        "sns.barplot(x='Importance', y='Feature', data=importance_df, palette='Blues_d')\n",
        "plt.title('Feature Importances from Random Forest Regressor')\n",
        "plt.show()\n",
        "\n",
        "\n"
      ],
      "metadata": {
        "colab": {
          "base_uri": "https://localhost:8080/",
          "height": 738
        },
        "id": "ELshp_lvXIdt",
        "outputId": "c7b5cdd1-d3ec-40d3-84d0-fed796cb61c6"
      },
      "execution_count": 39,
      "outputs": [
        {
          "output_type": "stream",
          "name": "stdout",
          "text": [
            "\n",
            "Random Forest Regressor Evaluation:\n",
            "Mean Absolute Error: 32.6168\n",
            "Mean Squared Error: 1712.6216\n",
            "R^2 Score: 0.0894\n"
          ]
        },
        {
          "output_type": "stream",
          "name": "stderr",
          "text": [
            "<ipython-input-39-1cc0d79a0258>:45: FutureWarning: \n",
            "\n",
            "Passing `palette` without assigning `hue` is deprecated and will be removed in v0.14.0. Assign the `y` variable to `hue` and set `legend=False` for the same effect.\n",
            "\n",
            "  sns.barplot(x='Importance', y='Feature', data=importance_df, palette='Blues_d')\n"
          ]
        },
        {
          "output_type": "display_data",
          "data": {
            "text/plain": [
              "<Figure size 1000x600 with 1 Axes>"
            ],
            "image/png": "[encoded data removed]"
          },
          "metadata": {}
        }
      ]
    }
  ]
}